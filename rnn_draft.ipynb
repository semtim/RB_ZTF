{
 "cells": [
  {
   "cell_type": "code",
   "execution_count": 1,
   "id": "fc488732",
   "metadata": {},
   "outputs": [],
   "source": [
    "import torch\n",
    "import torch.nn as nn\n",
    "import timm\n",
    "from tqdm import tqdm\n",
    "import methods\n",
    "import os\n",
    "from astropy.io import fits\n",
    "from astropy.wcs import WCS, utils\n",
    "from astropy.coordinates import SkyCoord\n",
    "import matplotlib.pyplot as plt\n",
    "import numpy as np\n",
    "import json\n",
    "from io import BytesIO\n",
    "import requests\n",
    "from copy import deepcopy\n",
    "from astropy.nddata import Cutout2D\n",
    "from torch.nn.utils.rnn import pad_sequence"
   ]
  },
  {
   "cell_type": "markdown",
   "id": "91909315",
   "metadata": {},
   "source": [
    "## Загрузка данных"
   ]
  },
  {
   "cell_type": "code",
   "execution_count": 2,
   "id": "a06761c3",
   "metadata": {},
   "outputs": [],
   "source": [
    "#get oids and tags from json\n",
    "def get_oids(filepath):\n",
    "    file = open(filepath)\n",
    "    obj_list = json.load(file)\n",
    "    file.close()\n",
    "\n",
    "    oids = [data['oid'] for data in obj_list]\n",
    "    tags = [data['tags'] for data in obj_list]\n",
    "    targets = [] # 1-artefact,  0-transient\n",
    "    for tag_list in tags:\n",
    "        if 'artefact' in tag_list:\n",
    "            targets.append(1)\n",
    "        else:\n",
    "            targets.append(0)\n",
    "    \n",
    "    return oids, targets\n",
    "####################################################\n",
    "\n",
    "\n",
    "oids, targets = get_oids('akb.ztf.snad.space.json')\n",
    "targets = torch.tensor(targets).long()\n",
    "oids = np.array(oids)"
   ]
  },
  {
   "cell_type": "code",
   "execution_count": 3,
   "id": "1b8518bc",
   "metadata": {},
   "outputs": [],
   "source": [
    "batch_size = 64\n",
    "imgs = []\n",
    "for oid in oids[:batch_size]:\n",
    "    imgs.append(methods.get_img_stack(oid))\n"
   ]
  },
  {
   "cell_type": "code",
   "execution_count": 4,
   "id": "c5de62a9",
   "metadata": {},
   "outputs": [],
   "source": [
    "train = pad_sequence(imgs, batch_first=True)"
   ]
  },
  {
   "cell_type": "code",
   "execution_count": 5,
   "id": "dfa66d00",
   "metadata": {},
   "outputs": [
    {
     "data": {
      "text/plain": [
       "torch.Size([64, 673, 28, 28])"
      ]
     },
     "execution_count": 5,
     "metadata": {},
     "output_type": "execute_result"
    }
   ],
   "source": [
    "labels = targets[:batch_size]\n",
    "train.shape"
   ]
  },
  {
   "cell_type": "code",
   "execution_count": 6,
   "id": "f4b10810",
   "metadata": {},
   "outputs": [],
   "source": [
    "device = torch.device(\"cuda\" if torch.cuda.is_available() else \"cpu\")\n",
    "train = train#.to(device)\n",
    "labels = labels#.to(device)"
   ]
  },
  {
   "cell_type": "markdown",
   "id": "8bda0fd0",
   "metadata": {},
   "source": [
    "## только свертка для всех изображений"
   ]
  },
  {
   "cell_type": "code",
   "execution_count": 14,
   "id": "af532ccf",
   "metadata": {},
   "outputs": [],
   "source": [
    "batch_size = 256\n",
    "\n",
    "class SimpleCNN(nn.Module):\n",
    "    def __init__(self, fc=False):\n",
    "        super().__init__()\n",
    "        self.layers = nn.Sequential(\n",
    "                                    nn.Conv2d(1, 16, 3, padding=1),\n",
    "                                    nn.ReLU(),\n",
    "                                    nn.MaxPool2d(2),\n",
    "                                    nn.Conv2d(16, 32, 3, padding=1),\n",
    "                                    nn.MaxPool2d(2),\n",
    "                                    nn.ReLU(),\n",
    "                                    nn.Conv2d(32, 64, 3, padding=1, bias=False),\n",
    "                                    nn.ReLU(),\n",
    "                                    nn.BatchNorm2d(64),\n",
    "                                    )\n",
    "        if fc:\n",
    "            self.fc = nn.Sequential(nn.Linear(64*7**2, 256),\n",
    "                                    nn.ReLU(),\n",
    "                                    nn.Linear(256, 2)\n",
    "                                   )\n",
    "        else:\n",
    "            self.fc = False\n",
    "\n",
    "\n",
    "    def forward(self, x):\n",
    "        #x.shape = batch, ch, img_size\n",
    "        x = self.layers(x)\n",
    "        if self.fc:\n",
    "            x = self.fc(nn.Flatten()(x))\n",
    "\n",
    "        return x"
   ]
  },
  {
   "cell_type": "code",
   "execution_count": 4,
   "id": "8d20beac",
   "metadata": {},
   "outputs": [],
   "source": [
    "obj_labels = targets[:50]\n",
    "imgs_labels = torch.zeros(1)\n",
    "imgs = torch.zeros(1,28,28)\n",
    "for i, oid in enumerate(oids[:50]):\n",
    "    temp = methods.get_img_stack(oid)\n",
    "    imgs = torch.vstack((imgs, temp))\n",
    "    imgs_labels = torch.hstack((imgs_labels, torch.full([temp.shape[0]], obj_labels[i])))\n"
   ]
  },
  {
   "cell_type": "code",
   "execution_count": 5,
   "id": "888d65c4",
   "metadata": {},
   "outputs": [],
   "source": [
    "imgs = imgs[1:].float()\n",
    "imgs_labels = imgs_labels[1:].long()"
   ]
  },
  {
   "cell_type": "code",
   "execution_count": 15,
   "id": "e13118ee",
   "metadata": {},
   "outputs": [],
   "source": [
    "model = SimpleCNN(fc=True)"
   ]
  },
  {
   "cell_type": "code",
   "execution_count": 6,
   "id": "bd687725",
   "metadata": {},
   "outputs": [],
   "source": [
    "model = timm.create_model('tf_efficientnet_b0', in_chans=1)\n",
    "model.conv_stem = nn.Conv2d(1, 32, kernel_size=(3, 3), stride=(1, 1), bias=False)\n",
    "model.blocks[1][0].conv_dw = nn.Conv2d(96, 96, kernel_size=(3, 3), stride=(1, 1), groups=96, bias=False)\n",
    "#model.blocks[2][0].conv_dw\n",
    "#model.blocks[3][0].conv_dw\n",
    "model.blocks[5][0].conv_dw = nn.Conv2d(672, 672, kernel_size=(5, 5), stride=(1, 1), groups=672, bias=False)\n",
    "model.classifier = nn.Linear(in_features=1280, out_features=2, bias=True)"
   ]
  },
  {
   "cell_type": "code",
   "execution_count": 16,
   "id": "4b809208",
   "metadata": {},
   "outputs": [
    {
     "data": {
      "text/plain": [
       "SimpleCNN(\n",
       "  (layers): Sequential(\n",
       "    (0): Conv2d(1, 16, kernel_size=(3, 3), stride=(1, 1), padding=(1, 1))\n",
       "    (1): ReLU()\n",
       "    (2): MaxPool2d(kernel_size=2, stride=2, padding=0, dilation=1, ceil_mode=False)\n",
       "    (3): Conv2d(16, 32, kernel_size=(3, 3), stride=(1, 1), padding=(1, 1))\n",
       "    (4): MaxPool2d(kernel_size=2, stride=2, padding=0, dilation=1, ceil_mode=False)\n",
       "    (5): ReLU()\n",
       "    (6): Conv2d(32, 64, kernel_size=(3, 3), stride=(1, 1), padding=(1, 1), bias=False)\n",
       "    (7): ReLU()\n",
       "    (8): BatchNorm2d(64, eps=1e-05, momentum=0.1, affine=True, track_running_stats=True)\n",
       "  )\n",
       "  (fc): Sequential(\n",
       "    (0): Linear(in_features=3136, out_features=256, bias=False)\n",
       "    (1): ReLU()\n",
       "    (2): Linear(in_features=256, out_features=2, bias=True)\n",
       "  )\n",
       ")"
      ]
     },
     "execution_count": 16,
     "metadata": {},
     "output_type": "execute_result"
    }
   ],
   "source": [
    "device = torch.device(\"cuda\" if torch.cuda.is_available() else \"cpu\")\n",
    "\n",
    "optimizer = torch.optim.Adam(model.parameters(), lr=0.001)\n",
    "criterion = nn.CrossEntropyLoss()\n",
    "#model.to(device)\n",
    "model.train()"
   ]
  },
  {
   "cell_type": "code",
   "execution_count": 17,
   "id": "62102d5c",
   "metadata": {},
   "outputs": [
    {
     "name": "stderr",
     "output_type": "stream",
     "text": [
      "100%|███████████████████████████████████████████| 10/10 [00:39<00:00,  3.91s/it]\n"
     ]
    }
   ],
   "source": [
    "n_epoch = 10\n",
    "loss_hist = []\n",
    "for _ in tqdm(range(n_epoch)):\n",
    "    perm = torch.randperm(imgs.shape[0])\n",
    "    flag = 0\n",
    "    ep_loss = 0\n",
    "    for i in range(imgs.shape[0]//batch_size):\n",
    "        x = imgs[perm][flag:(i+1)*batch_size]#.to(device)\n",
    "        y = imgs_labels[perm][flag:(i+1)*batch_size]#.to(device)\n",
    "        flag = (i+1)*batch_size\n",
    "\n",
    "        optimizer.zero_grad()\n",
    "        out = model(x.view(-1, 1, 28, 28))\n",
    "        loss = criterion(out, y)\n",
    "        loss.backward()\n",
    "        optimizer.step()\n",
    "        ep_loss += loss.item()\n",
    "    loss_hist.append(ep_loss / (imgs.shape[0]//batch_size))\n",
    "        "
   ]
  },
  {
   "cell_type": "code",
   "execution_count": 18,
   "id": "36bd5284",
   "metadata": {},
   "outputs": [
    {
     "data": {
      "text/plain": [
       "[<matplotlib.lines.Line2D at 0x7fb8c275da80>]"
      ]
     },
     "execution_count": 18,
     "metadata": {},
     "output_type": "execute_result"
    },
    {
     "data": {
      "image/png": "[encoded data removed]",
      "text/plain": [
       "<Figure size 640x480 with 1 Axes>"
      ]
     },
     "metadata": {},
     "output_type": "display_data"
    }
   ],
   "source": [
    "plt.plot(np.arange(n_epoch), loss_hist)"
   ]
  },
  {
   "cell_type": "code",
   "execution_count": 10,
   "id": "616d055e",
   "metadata": {},
   "outputs": [],
   "source": [
    "torch.save(model.state_dict(), 'effnet_conv_only')"
   ]
  },
  {
   "cell_type": "code",
   "execution_count": 5,
   "id": "f075013d",
   "metadata": {},
   "outputs": [],
   "source": [
    "model = timm.create_model('tf_efficientnet_b0', in_chans=1)\n",
    "model.conv_stem = nn.Conv2d(1, 32, kernel_size=(3, 3), stride=(1, 1), bias=False)\n",
    "model.blocks[1][0].conv_dw = nn.Conv2d(96, 96, kernel_size=(3, 3), stride=(1, 1), groups=96, bias=False)\n",
    "#model.blocks[2][0].conv_dw\n",
    "#model.blocks[3][0].conv_dw\n",
    "model.blocks[5][0].conv_dw = nn.Conv2d(672, 672, kernel_size=(5, 5), stride=(1, 1), groups=672, bias=False)\n",
    "model.classifier = nn.Linear(in_features=1280, out_features=2, bias=True)\n",
    "\n",
    "model.load_state_dict(torch.load('effnet_conv_only'))\n",
    "model.eval()\n",
    "\n",
    "device = torch.device(\"cuda\" if torch.cuda.is_available() else \"cpu\")\n",
    "\n",
    "optimizer = torch.optim.Adam(model.parameters(), lr=0.001)\n",
    "criterion = nn.CrossEntropyLoss()"
   ]
  },
  {
   "cell_type": "code",
   "execution_count": 11,
   "id": "a2df3769",
   "metadata": {},
   "outputs": [],
   "source": [
    "from sklearn.metrics import f1_score, precision_score, recall_score"
   ]
  },
  {
   "cell_type": "code",
   "execution_count": 12,
   "id": "8075834f",
   "metadata": {},
   "outputs": [],
   "source": [
    "def get_correct_count(pred, labels):\n",
    "    _, predicted = torch.max(pred.data, 1)\n",
    "    return (predicted.cpu() == labels.cpu()).sum().item()\n",
    "\n",
    "\n",
    "@torch.inference_mode()  # this annotation disable grad computation\n",
    "def validate_with_loss(model, X, Y, device=\"cpu\"):\n",
    "    criterion = nn.CrossEntropyLoss()\n",
    "\n",
    "    flag = 0\n",
    "    acc, prec, rec, Loss, f1 = 0, 0, 0, 0, 0\n",
    "    batch_size = 256\n",
    "    for i in range(X.shape[0]//batch_size):\n",
    "        x = X[flag:(i+1)*batch_size]\n",
    "        y = Y[flag:(i+1)*batch_size]\n",
    "        flag = (i+1)*batch_size\n",
    "        pred = model(x)\n",
    "        total = y.size(0)\n",
    "        correct = get_correct_count(pred, y)\n",
    "        loss = criterion(pred, y)\n",
    "    \n",
    "        _, predicted_labels = torch.max(pred.data, 1)\n",
    "        acc += correct / total\n",
    "        prec += precision_score(y, predicted_labels)\n",
    "        rec += recall_score(y, predicted_labels)\n",
    "        f1 += f1_score(y, predicted_labels)\n",
    "        Loss += loss.item()\n",
    "    acc /= (X.shape[0]//batch_size)\n",
    "    prec /= (X.shape[0]//batch_size)\n",
    "    rec /= (X.shape[0]//batch_size)\n",
    "    f1 /= (X.shape[0]//batch_size)\n",
    "    Loss /= (X.shape[0]//batch_size)\n",
    "    print(f\"accuracy = {acc}\\nloss = {Loss}\\nprecision = {prec}\" )\n",
    "    print(f\"recall = {rec}\\nf1_score = {f1}\")\n"
   ]
  },
  {
   "cell_type": "code",
   "execution_count": 12,
   "id": "461b271d",
   "metadata": {},
   "outputs": [],
   "source": [
    "test_obj_labels = targets[50:60]\n",
    "y_test = torch.zeros(1)\n",
    "x_test = torch.zeros(1,28,28)\n",
    "for i, oid in enumerate(oids[50:60]):\n",
    "    temp = methods.get_img_stack(oid)\n",
    "    x_test = torch.vstack((x_test, temp))\n",
    "    y_test = torch.hstack((y_test, torch.full([temp.shape[0]], test_obj_labels[i])))"
   ]
  },
  {
   "cell_type": "code",
   "execution_count": 13,
   "id": "6be79b81",
   "metadata": {},
   "outputs": [],
   "source": [
    "x_test = x_test[1:].float()\n",
    "y_test = y_test[1:].long()"
   ]
  },
  {
   "cell_type": "code",
   "execution_count": 19,
   "id": "c46f58a8",
   "metadata": {},
   "outputs": [
    {
     "name": "stderr",
     "output_type": "stream",
     "text": [
      "/home/timofey/saimsu/astroenv/lib/python3.10/site-packages/sklearn/metrics/_classification.py:1344: UndefinedMetricWarning: Recall is ill-defined and being set to 0.0 due to no true samples. Use `zero_division` parameter to control this behavior.\n",
      "  _warn_prf(average, modifier, msg_start, len(result))\n",
      "/home/timofey/saimsu/astroenv/lib/python3.10/site-packages/sklearn/metrics/_classification.py:1344: UndefinedMetricWarning: Precision is ill-defined and being set to 0.0 due to no predicted samples. Use `zero_division` parameter to control this behavior.\n",
      "  _warn_prf(average, modifier, msg_start, len(result))\n",
      "/home/timofey/saimsu/astroenv/lib/python3.10/site-packages/sklearn/metrics/_classification.py:1344: UndefinedMetricWarning: Recall is ill-defined and being set to 0.0 due to no true samples. Use `zero_division` parameter to control this behavior.\n",
      "  _warn_prf(average, modifier, msg_start, len(result))\n",
      "/home/timofey/saimsu/astroenv/lib/python3.10/site-packages/sklearn/metrics/_classification.py:1609: UndefinedMetricWarning: F-score is ill-defined and being set to 0.0 due to no true nor predicted samples. Use `zero_division` parameter to control this behavior.\n",
      "  _warn_prf(average, \"true nor predicted\", \"F-score is\", len(true_sum))\n",
      "/home/timofey/saimsu/astroenv/lib/python3.10/site-packages/sklearn/metrics/_classification.py:1344: UndefinedMetricWarning: Precision is ill-defined and being set to 0.0 due to no predicted samples. Use `zero_division` parameter to control this behavior.\n",
      "  _warn_prf(average, modifier, msg_start, len(result))\n",
      "/home/timofey/saimsu/astroenv/lib/python3.10/site-packages/sklearn/metrics/_classification.py:1344: UndefinedMetricWarning: Recall is ill-defined and being set to 0.0 due to no true samples. Use `zero_division` parameter to control this behavior.\n",
      "  _warn_prf(average, modifier, msg_start, len(result))\n",
      "/home/timofey/saimsu/astroenv/lib/python3.10/site-packages/sklearn/metrics/_classification.py:1609: UndefinedMetricWarning: F-score is ill-defined and being set to 0.0 due to no true nor predicted samples. Use `zero_division` parameter to control this behavior.\n",
      "  _warn_prf(average, \"true nor predicted\", \"F-score is\", len(true_sum))\n",
      "/home/timofey/saimsu/astroenv/lib/python3.10/site-packages/sklearn/metrics/_classification.py:1344: UndefinedMetricWarning: Recall is ill-defined and being set to 0.0 due to no true samples. Use `zero_division` parameter to control this behavior.\n",
      "  _warn_prf(average, modifier, msg_start, len(result))\n",
      "/home/timofey/saimsu/astroenv/lib/python3.10/site-packages/sklearn/metrics/_classification.py:1344: UndefinedMetricWarning: Precision is ill-defined and being set to 0.0 due to no predicted samples. Use `zero_division` parameter to control this behavior.\n",
      "  _warn_prf(average, modifier, msg_start, len(result))\n",
      "/home/timofey/saimsu/astroenv/lib/python3.10/site-packages/sklearn/metrics/_classification.py:1344: UndefinedMetricWarning: Recall is ill-defined and being set to 0.0 due to no true samples. Use `zero_division` parameter to control this behavior.\n",
      "  _warn_prf(average, modifier, msg_start, len(result))\n",
      "/home/timofey/saimsu/astroenv/lib/python3.10/site-packages/sklearn/metrics/_classification.py:1609: UndefinedMetricWarning: F-score is ill-defined and being set to 0.0 due to no true nor predicted samples. Use `zero_division` parameter to control this behavior.\n",
      "  _warn_prf(average, \"true nor predicted\", \"F-score is\", len(true_sum))\n",
      "/home/timofey/saimsu/astroenv/lib/python3.10/site-packages/sklearn/metrics/_classification.py:1344: UndefinedMetricWarning: Recall is ill-defined and being set to 0.0 due to no true samples. Use `zero_division` parameter to control this behavior.\n",
      "  _warn_prf(average, modifier, msg_start, len(result))\n",
      "/home/timofey/saimsu/astroenv/lib/python3.10/site-packages/sklearn/metrics/_classification.py:1344: UndefinedMetricWarning: Recall is ill-defined and being set to 0.0 due to no true samples. Use `zero_division` parameter to control this behavior.\n",
      "  _warn_prf(average, modifier, msg_start, len(result))\n",
      "/home/timofey/saimsu/astroenv/lib/python3.10/site-packages/sklearn/metrics/_classification.py:1344: UndefinedMetricWarning: Recall is ill-defined and being set to 0.0 due to no true samples. Use `zero_division` parameter to control this behavior.\n",
      "  _warn_prf(average, modifier, msg_start, len(result))\n",
      "/home/timofey/saimsu/astroenv/lib/python3.10/site-packages/sklearn/metrics/_classification.py:1344: UndefinedMetricWarning: Recall is ill-defined and being set to 0.0 due to no true samples. Use `zero_division` parameter to control this behavior.\n",
      "  _warn_prf(average, modifier, msg_start, len(result))\n",
      "/home/timofey/saimsu/astroenv/lib/python3.10/site-packages/sklearn/metrics/_classification.py:1344: UndefinedMetricWarning: Precision is ill-defined and being set to 0.0 due to no predicted samples. Use `zero_division` parameter to control this behavior.\n",
      "  _warn_prf(average, modifier, msg_start, len(result))\n",
      "/home/timofey/saimsu/astroenv/lib/python3.10/site-packages/sklearn/metrics/_classification.py:1344: UndefinedMetricWarning: Recall is ill-defined and being set to 0.0 due to no true samples. Use `zero_division` parameter to control this behavior.\n",
      "  _warn_prf(average, modifier, msg_start, len(result))\n",
      "/home/timofey/saimsu/astroenv/lib/python3.10/site-packages/sklearn/metrics/_classification.py:1609: UndefinedMetricWarning: F-score is ill-defined and being set to 0.0 due to no true nor predicted samples. Use `zero_division` parameter to control this behavior.\n",
      "  _warn_prf(average, \"true nor predicted\", \"F-score is\", len(true_sum))\n",
      "/home/timofey/saimsu/astroenv/lib/python3.10/site-packages/sklearn/metrics/_classification.py:1344: UndefinedMetricWarning: Recall is ill-defined and being set to 0.0 due to no true samples. Use `zero_division` parameter to control this behavior.\n",
      "  _warn_prf(average, modifier, msg_start, len(result))\n",
      "/home/timofey/saimsu/astroenv/lib/python3.10/site-packages/sklearn/metrics/_classification.py:1344: UndefinedMetricWarning: Recall is ill-defined and being set to 0.0 due to no true samples. Use `zero_division` parameter to control this behavior.\n",
      "  _warn_prf(average, modifier, msg_start, len(result))\n"
     ]
    },
    {
     "name": "stdout",
     "output_type": "stream",
     "text": [
      "accuracy = 0.9058159722222222\n",
      "loss = 0.20874689818119804\n",
      "precision = 0.5711130527640939\n",
      "recall = 0.501127016896429\n",
      "f1_score = 0.4966622931508163\n"
     ]
    },
    {
     "name": "stderr",
     "output_type": "stream",
     "text": [
      "/home/timofey/saimsu/astroenv/lib/python3.10/site-packages/sklearn/metrics/_classification.py:1344: UndefinedMetricWarning: Precision is ill-defined and being set to 0.0 due to no predicted samples. Use `zero_division` parameter to control this behavior.\n",
      "  _warn_prf(average, modifier, msg_start, len(result))\n",
      "/home/timofey/saimsu/astroenv/lib/python3.10/site-packages/sklearn/metrics/_classification.py:1344: UndefinedMetricWarning: Recall is ill-defined and being set to 0.0 due to no true samples. Use `zero_division` parameter to control this behavior.\n",
      "  _warn_prf(average, modifier, msg_start, len(result))\n",
      "/home/timofey/saimsu/astroenv/lib/python3.10/site-packages/sklearn/metrics/_classification.py:1609: UndefinedMetricWarning: F-score is ill-defined and being set to 0.0 due to no true nor predicted samples. Use `zero_division` parameter to control this behavior.\n",
      "  _warn_prf(average, \"true nor predicted\", \"F-score is\", len(true_sum))\n",
      "/home/timofey/saimsu/astroenv/lib/python3.10/site-packages/sklearn/metrics/_classification.py:1344: UndefinedMetricWarning: Recall is ill-defined and being set to 0.0 due to no true samples. Use `zero_division` parameter to control this behavior.\n",
      "  _warn_prf(average, modifier, msg_start, len(result))\n",
      "/home/timofey/saimsu/astroenv/lib/python3.10/site-packages/sklearn/metrics/_classification.py:1344: UndefinedMetricWarning: Precision is ill-defined and being set to 0.0 due to no predicted samples. Use `zero_division` parameter to control this behavior.\n",
      "  _warn_prf(average, modifier, msg_start, len(result))\n",
      "/home/timofey/saimsu/astroenv/lib/python3.10/site-packages/sklearn/metrics/_classification.py:1344: UndefinedMetricWarning: Recall is ill-defined and being set to 0.0 due to no true samples. Use `zero_division` parameter to control this behavior.\n",
      "  _warn_prf(average, modifier, msg_start, len(result))\n",
      "/home/timofey/saimsu/astroenv/lib/python3.10/site-packages/sklearn/metrics/_classification.py:1609: UndefinedMetricWarning: F-score is ill-defined and being set to 0.0 due to no true nor predicted samples. Use `zero_division` parameter to control this behavior.\n",
      "  _warn_prf(average, \"true nor predicted\", \"F-score is\", len(true_sum))\n",
      "/home/timofey/saimsu/astroenv/lib/python3.10/site-packages/sklearn/metrics/_classification.py:1344: UndefinedMetricWarning: Precision is ill-defined and being set to 0.0 due to no predicted samples. Use `zero_division` parameter to control this behavior.\n",
      "  _warn_prf(average, modifier, msg_start, len(result))\n",
      "/home/timofey/saimsu/astroenv/lib/python3.10/site-packages/sklearn/metrics/_classification.py:1344: UndefinedMetricWarning: Recall is ill-defined and being set to 0.0 due to no true samples. Use `zero_division` parameter to control this behavior.\n",
      "  _warn_prf(average, modifier, msg_start, len(result))\n",
      "/home/timofey/saimsu/astroenv/lib/python3.10/site-packages/sklearn/metrics/_classification.py:1609: UndefinedMetricWarning: F-score is ill-defined and being set to 0.0 due to no true nor predicted samples. Use `zero_division` parameter to control this behavior.\n",
      "  _warn_prf(average, \"true nor predicted\", \"F-score is\", len(true_sum))\n"
     ]
    }
   ],
   "source": [
    "validate_with_loss(model, imgs.view(imgs.shape[0], 1, 28, 28), imgs_labels)"
   ]
  },
  {
   "cell_type": "code",
   "execution_count": 50,
   "id": "b2549558",
   "metadata": {
    "scrolled": true
   },
   "outputs": [
    {
     "name": "stderr",
     "output_type": "stream",
     "text": [
      "/home/timofey/saimsu/astroenv/lib/python3.10/site-packages/sklearn/metrics/_classification.py:1344: UndefinedMetricWarning: Recall is ill-defined and being set to 0.0 due to no true samples. Use `zero_division` parameter to control this behavior.\n",
      "  _warn_prf(average, modifier, msg_start, len(result))\n",
      "/home/timofey/saimsu/astroenv/lib/python3.10/site-packages/sklearn/metrics/_classification.py:1344: UndefinedMetricWarning: Recall is ill-defined and being set to 0.0 due to no true samples. Use `zero_division` parameter to control this behavior.\n",
      "  _warn_prf(average, modifier, msg_start, len(result))\n",
      "/home/timofey/saimsu/astroenv/lib/python3.10/site-packages/sklearn/metrics/_classification.py:1344: UndefinedMetricWarning: Recall is ill-defined and being set to 0.0 due to no true samples. Use `zero_division` parameter to control this behavior.\n",
      "  _warn_prf(average, modifier, msg_start, len(result))\n",
      "/home/timofey/saimsu/astroenv/lib/python3.10/site-packages/sklearn/metrics/_classification.py:1344: UndefinedMetricWarning: Recall is ill-defined and being set to 0.0 due to no true samples. Use `zero_division` parameter to control this behavior.\n",
      "  _warn_prf(average, modifier, msg_start, len(result))\n",
      "/home/timofey/saimsu/astroenv/lib/python3.10/site-packages/sklearn/metrics/_classification.py:1344: UndefinedMetricWarning: Recall is ill-defined and being set to 0.0 due to no true samples. Use `zero_division` parameter to control this behavior.\n",
      "  _warn_prf(average, modifier, msg_start, len(result))\n",
      "/home/timofey/saimsu/astroenv/lib/python3.10/site-packages/sklearn/metrics/_classification.py:1344: UndefinedMetricWarning: Precision is ill-defined and being set to 0.0 due to no predicted samples. Use `zero_division` parameter to control this behavior.\n",
      "  _warn_prf(average, modifier, msg_start, len(result))\n",
      "/home/timofey/saimsu/astroenv/lib/python3.10/site-packages/sklearn/metrics/_classification.py:1344: UndefinedMetricWarning: Recall is ill-defined and being set to 0.0 due to no true samples. Use `zero_division` parameter to control this behavior.\n",
      "  _warn_prf(average, modifier, msg_start, len(result))\n",
      "/home/timofey/saimsu/astroenv/lib/python3.10/site-packages/sklearn/metrics/_classification.py:1609: UndefinedMetricWarning: F-score is ill-defined and being set to 0.0 due to no true nor predicted samples. Use `zero_division` parameter to control this behavior.\n",
      "  _warn_prf(average, \"true nor predicted\", \"F-score is\", len(true_sum))\n",
      "/home/timofey/saimsu/astroenv/lib/python3.10/site-packages/sklearn/metrics/_classification.py:1344: UndefinedMetricWarning: Recall is ill-defined and being set to 0.0 due to no true samples. Use `zero_division` parameter to control this behavior.\n",
      "  _warn_prf(average, modifier, msg_start, len(result))\n",
      "/home/timofey/saimsu/astroenv/lib/python3.10/site-packages/sklearn/metrics/_classification.py:1344: UndefinedMetricWarning: Recall is ill-defined and being set to 0.0 due to no true samples. Use `zero_division` parameter to control this behavior.\n",
      "  _warn_prf(average, modifier, msg_start, len(result))\n",
      "/home/timofey/saimsu/astroenv/lib/python3.10/site-packages/sklearn/metrics/_classification.py:1344: UndefinedMetricWarning: Recall is ill-defined and being set to 0.0 due to no true samples. Use `zero_division` parameter to control this behavior.\n",
      "  _warn_prf(average, modifier, msg_start, len(result))\n",
      "/home/timofey/saimsu/astroenv/lib/python3.10/site-packages/sklearn/metrics/_classification.py:1344: UndefinedMetricWarning: Recall is ill-defined and being set to 0.0 due to no true samples. Use `zero_division` parameter to control this behavior.\n",
      "  _warn_prf(average, modifier, msg_start, len(result))\n",
      "/home/timofey/saimsu/astroenv/lib/python3.10/site-packages/sklearn/metrics/_classification.py:1344: UndefinedMetricWarning: Recall is ill-defined and being set to 0.0 due to no true samples. Use `zero_division` parameter to control this behavior.\n",
      "  _warn_prf(average, modifier, msg_start, len(result))\n",
      "/home/timofey/saimsu/astroenv/lib/python3.10/site-packages/sklearn/metrics/_classification.py:1344: UndefinedMetricWarning: Recall is ill-defined and being set to 0.0 due to no true samples. Use `zero_division` parameter to control this behavior.\n",
      "  _warn_prf(average, modifier, msg_start, len(result))\n",
      "/home/timofey/saimsu/astroenv/lib/python3.10/site-packages/sklearn/metrics/_classification.py:1344: UndefinedMetricWarning: Recall is ill-defined and being set to 0.0 due to no true samples. Use `zero_division` parameter to control this behavior.\n",
      "  _warn_prf(average, modifier, msg_start, len(result))\n",
      "/home/timofey/saimsu/astroenv/lib/python3.10/site-packages/sklearn/metrics/_classification.py:1344: UndefinedMetricWarning: Recall is ill-defined and being set to 0.0 due to no true samples. Use `zero_division` parameter to control this behavior.\n",
      "  _warn_prf(average, modifier, msg_start, len(result))\n"
     ]
    },
    {
     "name": "stdout",
     "output_type": "stream",
     "text": [
      "accuracy = 0.7350260416666666\n",
      "loss = 0.8011672985351955\n",
      "precision = 0.1472953216374269\n",
      "recall = 0.06816023284313727\n",
      "f1_score = 0.08178456800927744\n"
     ]
    },
    {
     "name": "stderr",
     "output_type": "stream",
     "text": [
      "/home/timofey/saimsu/astroenv/lib/python3.10/site-packages/sklearn/metrics/_classification.py:1344: UndefinedMetricWarning: Precision is ill-defined and being set to 0.0 due to no predicted samples. Use `zero_division` parameter to control this behavior.\n",
      "  _warn_prf(average, modifier, msg_start, len(result))\n"
     ]
    }
   ],
   "source": [
    "validate_with_loss(model, x_test.view(x_test.shape[0], 1, 28, 28), y_test)"
   ]
  },
  {
   "cell_type": "code",
   "execution_count": 29,
   "id": "ef21fd4d",
   "metadata": {},
   "outputs": [
    {
     "name": "stdout",
     "output_type": "stream",
     "text": [
      "0 : 7011\n",
      "1 : 4562\n"
     ]
    }
   ],
   "source": [
    "print(f'0 : {torch.sum(imgs_labels == 0)}\\n1 : {torch.sum(imgs_labels == 1)}')"
   ]
  },
  {
   "cell_type": "markdown",
   "id": "c5d6ebb2",
   "metadata": {},
   "source": [
    "## Conv3d"
   ]
  },
  {
   "cell_type": "code",
   "execution_count": 9,
   "id": "b66e0f90",
   "metadata": {},
   "outputs": [],
   "source": [
    "model = methods.CustomResnet3d()\n",
    "optimizer = torch.optim.Adam(model.parameters(), lr=0.001)\n",
    "criterion = nn.CrossEntropyLoss()\n",
    "model.to(device)\n",
    "model.train()\n",
    "n_epoch = 10"
   ]
  },
  {
   "cell_type": "code",
   "execution_count": 10,
   "id": "25101ad5",
   "metadata": {
    "scrolled": true
   },
   "outputs": [
    {
     "ename": "OutOfMemoryError",
     "evalue": "CUDA out of memory. Tried to allocate 214.00 MiB (GPU 0; 1.96 GiB total capacity; 1.28 GiB already allocated; 76.88 MiB free; 1.29 GiB reserved in total by PyTorch) If reserved memory is >> allocated memory try setting max_split_size_mb to avoid fragmentation.  See documentation for Memory Management and PYTORCH_CUDA_ALLOC_CONF",
     "output_type": "error",
     "traceback": [
      "\u001b[0;31m---------------------------------------------------------------------------\u001b[0m",
      "\u001b[0;31mOutOfMemoryError\u001b[0m                          Traceback (most recent call last)",
      "Cell \u001b[0;32mIn[10], line 5\u001b[0m\n\u001b[1;32m      3\u001b[0m ep_loss \u001b[38;5;241m=\u001b[39m \u001b[38;5;241m0\u001b[39m\n\u001b[1;32m      4\u001b[0m optimizer\u001b[38;5;241m.\u001b[39mzero_grad()\n\u001b[0;32m----> 5\u001b[0m out \u001b[38;5;241m=\u001b[39m \u001b[43mmodel\u001b[49m\u001b[43m(\u001b[49m\u001b[43mtrain\u001b[49m\u001b[38;5;241;43m.\u001b[39;49m\u001b[43mview\u001b[49m\u001b[43m(\u001b[49m\u001b[43mtrain\u001b[49m\u001b[38;5;241;43m.\u001b[39;49m\u001b[43mshape\u001b[49m\u001b[43m[\u001b[49m\u001b[38;5;241;43m0\u001b[39;49m\u001b[43m]\u001b[49m\u001b[43m,\u001b[49m\u001b[38;5;241;43m1\u001b[39;49m\u001b[43m,\u001b[49m\u001b[43m \u001b[49m\u001b[38;5;241;43m28\u001b[39;49m\u001b[43m,\u001b[49m\u001b[43m \u001b[49m\u001b[38;5;241;43m28\u001b[39;49m\u001b[43m,\u001b[49m\u001b[43m \u001b[49m\u001b[43mtrain\u001b[49m\u001b[38;5;241;43m.\u001b[39;49m\u001b[43mshape\u001b[49m\u001b[43m[\u001b[49m\u001b[38;5;241;43m1\u001b[39;49m\u001b[43m]\u001b[49m\u001b[43m)\u001b[49m\u001b[43m)\u001b[49m\n\u001b[1;32m      6\u001b[0m loss \u001b[38;5;241m=\u001b[39m criterion(out, labels)\n\u001b[1;32m      7\u001b[0m loss\u001b[38;5;241m.\u001b[39mbackward()\n",
      "File \u001b[0;32m~/saimsu/astroenv/lib/python3.10/site-packages/torch/nn/modules/module.py:1501\u001b[0m, in \u001b[0;36mModule._call_impl\u001b[0;34m(self, *args, **kwargs)\u001b[0m\n\u001b[1;32m   1496\u001b[0m \u001b[38;5;66;03m# If we don't have any hooks, we want to skip the rest of the logic in\u001b[39;00m\n\u001b[1;32m   1497\u001b[0m \u001b[38;5;66;03m# this function, and just call forward.\u001b[39;00m\n\u001b[1;32m   1498\u001b[0m \u001b[38;5;28;01mif\u001b[39;00m \u001b[38;5;129;01mnot\u001b[39;00m (\u001b[38;5;28mself\u001b[39m\u001b[38;5;241m.\u001b[39m_backward_hooks \u001b[38;5;129;01mor\u001b[39;00m \u001b[38;5;28mself\u001b[39m\u001b[38;5;241m.\u001b[39m_backward_pre_hooks \u001b[38;5;129;01mor\u001b[39;00m \u001b[38;5;28mself\u001b[39m\u001b[38;5;241m.\u001b[39m_forward_hooks \u001b[38;5;129;01mor\u001b[39;00m \u001b[38;5;28mself\u001b[39m\u001b[38;5;241m.\u001b[39m_forward_pre_hooks\n\u001b[1;32m   1499\u001b[0m         \u001b[38;5;129;01mor\u001b[39;00m _global_backward_pre_hooks \u001b[38;5;129;01mor\u001b[39;00m _global_backward_hooks\n\u001b[1;32m   1500\u001b[0m         \u001b[38;5;129;01mor\u001b[39;00m _global_forward_hooks \u001b[38;5;129;01mor\u001b[39;00m _global_forward_pre_hooks):\n\u001b[0;32m-> 1501\u001b[0m     \u001b[38;5;28;01mreturn\u001b[39;00m \u001b[43mforward_call\u001b[49m\u001b[43m(\u001b[49m\u001b[38;5;241;43m*\u001b[39;49m\u001b[43margs\u001b[49m\u001b[43m,\u001b[49m\u001b[43m \u001b[49m\u001b[38;5;241;43m*\u001b[39;49m\u001b[38;5;241;43m*\u001b[39;49m\u001b[43mkwargs\u001b[49m\u001b[43m)\u001b[49m\n\u001b[1;32m   1502\u001b[0m \u001b[38;5;66;03m# Do not call functions when jit is used\u001b[39;00m\n\u001b[1;32m   1503\u001b[0m full_backward_hooks, non_full_backward_hooks \u001b[38;5;241m=\u001b[39m [], []\n",
      "File \u001b[0;32m~/saimsu/RB_ZTF/methods.py:135\u001b[0m, in \u001b[0;36mCustomResnet3d.forward\u001b[0;34m(self, x)\u001b[0m\n\u001b[1;32m    132\u001b[0m \u001b[38;5;28;01mdef\u001b[39;00m \u001b[38;5;21mforward\u001b[39m(\u001b[38;5;28mself\u001b[39m, x):\n\u001b[1;32m    133\u001b[0m     x \u001b[38;5;241m=\u001b[39m \u001b[38;5;28mself\u001b[39m\u001b[38;5;241m.\u001b[39mlayer1(x)\n\u001b[0;32m--> 135\u001b[0m     x \u001b[38;5;241m=\u001b[39m \u001b[38;5;28;43mself\u001b[39;49m\u001b[38;5;241;43m.\u001b[39;49m\u001b[43mbasic16\u001b[49m\u001b[43m(\u001b[49m\u001b[43mx\u001b[49m\u001b[43m)\u001b[49m\n\u001b[1;32m    136\u001b[0m     x \u001b[38;5;241m=\u001b[39m \u001b[38;5;28mself\u001b[39m\u001b[38;5;241m.\u001b[39mbasic_reshape1(x)\n\u001b[1;32m    138\u001b[0m     x \u001b[38;5;241m=\u001b[39m \u001b[38;5;28mself\u001b[39m\u001b[38;5;241m.\u001b[39mbasic32(x)\n",
      "File \u001b[0;32m~/saimsu/astroenv/lib/python3.10/site-packages/torch/nn/modules/module.py:1501\u001b[0m, in \u001b[0;36mModule._call_impl\u001b[0;34m(self, *args, **kwargs)\u001b[0m\n\u001b[1;32m   1496\u001b[0m \u001b[38;5;66;03m# If we don't have any hooks, we want to skip the rest of the logic in\u001b[39;00m\n\u001b[1;32m   1497\u001b[0m \u001b[38;5;66;03m# this function, and just call forward.\u001b[39;00m\n\u001b[1;32m   1498\u001b[0m \u001b[38;5;28;01mif\u001b[39;00m \u001b[38;5;129;01mnot\u001b[39;00m (\u001b[38;5;28mself\u001b[39m\u001b[38;5;241m.\u001b[39m_backward_hooks \u001b[38;5;129;01mor\u001b[39;00m \u001b[38;5;28mself\u001b[39m\u001b[38;5;241m.\u001b[39m_backward_pre_hooks \u001b[38;5;129;01mor\u001b[39;00m \u001b[38;5;28mself\u001b[39m\u001b[38;5;241m.\u001b[39m_forward_hooks \u001b[38;5;129;01mor\u001b[39;00m \u001b[38;5;28mself\u001b[39m\u001b[38;5;241m.\u001b[39m_forward_pre_hooks\n\u001b[1;32m   1499\u001b[0m         \u001b[38;5;129;01mor\u001b[39;00m _global_backward_pre_hooks \u001b[38;5;129;01mor\u001b[39;00m _global_backward_hooks\n\u001b[1;32m   1500\u001b[0m         \u001b[38;5;129;01mor\u001b[39;00m _global_forward_hooks \u001b[38;5;129;01mor\u001b[39;00m _global_forward_pre_hooks):\n\u001b[0;32m-> 1501\u001b[0m     \u001b[38;5;28;01mreturn\u001b[39;00m \u001b[43mforward_call\u001b[49m\u001b[43m(\u001b[49m\u001b[38;5;241;43m*\u001b[39;49m\u001b[43margs\u001b[49m\u001b[43m,\u001b[49m\u001b[43m \u001b[49m\u001b[38;5;241;43m*\u001b[39;49m\u001b[38;5;241;43m*\u001b[39;49m\u001b[43mkwargs\u001b[49m\u001b[43m)\u001b[49m\n\u001b[1;32m   1502\u001b[0m \u001b[38;5;66;03m# Do not call functions when jit is used\u001b[39;00m\n\u001b[1;32m   1503\u001b[0m full_backward_hooks, non_full_backward_hooks \u001b[38;5;241m=\u001b[39m [], []\n",
      "File \u001b[0;32m~/saimsu/astroenv/lib/python3.10/site-packages/torch/nn/modules/container.py:217\u001b[0m, in \u001b[0;36mSequential.forward\u001b[0;34m(self, input)\u001b[0m\n\u001b[1;32m    215\u001b[0m \u001b[38;5;28;01mdef\u001b[39;00m \u001b[38;5;21mforward\u001b[39m(\u001b[38;5;28mself\u001b[39m, \u001b[38;5;28minput\u001b[39m):\n\u001b[1;32m    216\u001b[0m     \u001b[38;5;28;01mfor\u001b[39;00m module \u001b[38;5;129;01min\u001b[39;00m \u001b[38;5;28mself\u001b[39m:\n\u001b[0;32m--> 217\u001b[0m         \u001b[38;5;28minput\u001b[39m \u001b[38;5;241m=\u001b[39m \u001b[43mmodule\u001b[49m\u001b[43m(\u001b[49m\u001b[38;5;28;43minput\u001b[39;49m\u001b[43m)\u001b[49m\n\u001b[1;32m    218\u001b[0m     \u001b[38;5;28;01mreturn\u001b[39;00m \u001b[38;5;28minput\u001b[39m\n",
      "File \u001b[0;32m~/saimsu/astroenv/lib/python3.10/site-packages/torch/nn/modules/module.py:1501\u001b[0m, in \u001b[0;36mModule._call_impl\u001b[0;34m(self, *args, **kwargs)\u001b[0m\n\u001b[1;32m   1496\u001b[0m \u001b[38;5;66;03m# If we don't have any hooks, we want to skip the rest of the logic in\u001b[39;00m\n\u001b[1;32m   1497\u001b[0m \u001b[38;5;66;03m# this function, and just call forward.\u001b[39;00m\n\u001b[1;32m   1498\u001b[0m \u001b[38;5;28;01mif\u001b[39;00m \u001b[38;5;129;01mnot\u001b[39;00m (\u001b[38;5;28mself\u001b[39m\u001b[38;5;241m.\u001b[39m_backward_hooks \u001b[38;5;129;01mor\u001b[39;00m \u001b[38;5;28mself\u001b[39m\u001b[38;5;241m.\u001b[39m_backward_pre_hooks \u001b[38;5;129;01mor\u001b[39;00m \u001b[38;5;28mself\u001b[39m\u001b[38;5;241m.\u001b[39m_forward_hooks \u001b[38;5;129;01mor\u001b[39;00m \u001b[38;5;28mself\u001b[39m\u001b[38;5;241m.\u001b[39m_forward_pre_hooks\n\u001b[1;32m   1499\u001b[0m         \u001b[38;5;129;01mor\u001b[39;00m _global_backward_pre_hooks \u001b[38;5;129;01mor\u001b[39;00m _global_backward_hooks\n\u001b[1;32m   1500\u001b[0m         \u001b[38;5;129;01mor\u001b[39;00m _global_forward_hooks \u001b[38;5;129;01mor\u001b[39;00m _global_forward_pre_hooks):\n\u001b[0;32m-> 1501\u001b[0m     \u001b[38;5;28;01mreturn\u001b[39;00m \u001b[43mforward_call\u001b[49m\u001b[43m(\u001b[49m\u001b[38;5;241;43m*\u001b[39;49m\u001b[43margs\u001b[49m\u001b[43m,\u001b[49m\u001b[43m \u001b[49m\u001b[38;5;241;43m*\u001b[39;49m\u001b[38;5;241;43m*\u001b[39;49m\u001b[43mkwargs\u001b[49m\u001b[43m)\u001b[49m\n\u001b[1;32m   1502\u001b[0m \u001b[38;5;66;03m# Do not call functions when jit is used\u001b[39;00m\n\u001b[1;32m   1503\u001b[0m full_backward_hooks, non_full_backward_hooks \u001b[38;5;241m=\u001b[39m [], []\n",
      "File \u001b[0;32m~/saimsu/RB_ZTF/methods.py:190\u001b[0m, in \u001b[0;36mBasicBlock.forward\u001b[0;34m(self, x)\u001b[0m\n\u001b[1;32m    188\u001b[0m \u001b[38;5;28;01mif\u001b[39;00m \u001b[38;5;28mself\u001b[39m\u001b[38;5;241m.\u001b[39mdownsample:\n\u001b[1;32m    189\u001b[0m   identity \u001b[38;5;241m=\u001b[39m \u001b[38;5;28mself\u001b[39m\u001b[38;5;241m.\u001b[39mdownsample_layer(identity)\n\u001b[0;32m--> 190\u001b[0m \u001b[38;5;28;01mreturn\u001b[39;00m \u001b[38;5;28;43mself\u001b[39;49m\u001b[38;5;241;43m.\u001b[39;49m\u001b[43mlayer\u001b[49m\u001b[43m(\u001b[49m\u001b[43mx\u001b[49m\u001b[43m)\u001b[49m\u001b[43m \u001b[49m\u001b[38;5;241;43m+\u001b[39;49m\u001b[43m \u001b[49m\u001b[43midentity\u001b[49m\n",
      "\u001b[0;31mOutOfMemoryError\u001b[0m: CUDA out of memory. Tried to allocate 214.00 MiB (GPU 0; 1.96 GiB total capacity; 1.28 GiB already allocated; 76.88 MiB free; 1.29 GiB reserved in total by PyTorch) If reserved memory is >> allocated memory try setting max_split_size_mb to avoid fragmentation.  See documentation for Memory Management and PYTORCH_CUDA_ALLOC_CONF"
     ]
    }
   ],
   "source": [
    "loss_hist = []\n",
    "for epoch in range(n_epoch):\n",
    "    ep_loss = 0\n",
    "    optimizer.zero_grad()\n",
    "    out = model(train.view(train.shape[0],1, 28, 28, train.shape[1]))\n",
    "    loss = criterion(out, labels)\n",
    "    loss.backward()\n",
    "    optimizer.step()\n",
    "    ep_loss += loss.item()\n",
    "    loss_hist.append(ep_loss)"
   ]
  },
  {
   "cell_type": "code",
   "execution_count": 18,
   "id": "09ca3a13",
   "metadata": {
    "scrolled": true
   },
   "outputs": [
    {
     "data": {
      "text/plain": [
       "[<matplotlib.lines.Line2D at 0x7ffa0a8f51e0>]"
      ]
     },
     "execution_count": 18,
     "metadata": {},
     "output_type": "execute_result"
    },
    {
     "data": {
      "image/png": "[encoded data removed]",
      "text/plain": [
       "<Figure size 640x480 with 1 Axes>"
      ]
     },
     "metadata": {},
     "output_type": "display_data"
    }
   ],
   "source": [
    "plt.plot(np.arange(n_epoch), loss_hist)"
   ]
  },
  {
   "cell_type": "markdown",
   "id": "7b7edc76",
   "metadata": {},
   "source": [
    "## RNN and conv model"
   ]
  },
  {
   "cell_type": "code",
   "execution_count": 7,
   "id": "767580bb",
   "metadata": {},
   "outputs": [],
   "source": [
    "model = methods.RBclassifier(hidden_size=128)"
   ]
  },
  {
   "cell_type": "code",
   "execution_count": 8,
   "id": "bfa88858",
   "metadata": {},
   "outputs": [],
   "source": [
    "optimizer = torch.optim.Adam(model.parameters(), lr=0.001)\n",
    "criterion = nn.CrossEntropyLoss()\n",
    "model.train()\n",
    "n_epoch = 10"
   ]
  },
  {
   "cell_type": "code",
   "execution_count": null,
   "id": "bc43ff08",
   "metadata": {},
   "outputs": [],
   "source": [
    "loss_hist = []\n",
    "for epoch in range(n_epoch):\n",
    "    ep_loss = 0\n",
    "    optimizer.zero_grad()\n",
    "    out = model(train.view(train.shape[0],train.shape[1],1,28,28))\n",
    "    loss = criterion(out, labels)\n",
    "    loss.backward()\n",
    "    optimizer.step()\n",
    "    ep_loss += loss.item()\n",
    "    loss_hist.append(ep_loss)"
   ]
  },
  {
   "cell_type": "code",
   "execution_count": null,
   "id": "c040720c",
   "metadata": {},
   "outputs": [],
   "source": [
    "plt.plot(np.arange(n_epoch), loss_hist)"
   ]
  },
  {
   "cell_type": "markdown",
   "id": "4c11ba9b",
   "metadata": {},
   "source": [
    "## Проверка предобработки кадров"
   ]
  },
  {
   "cell_type": "code",
   "execution_count": 4,
   "id": "32473523",
   "metadata": {},
   "outputs": [],
   "source": [
    "fits_list = os.listdir(f'data/{oids[0]}')"
   ]
  },
  {
   "cell_type": "code",
   "execution_count": 5,
   "id": "eee6b0cb",
   "metadata": {},
   "outputs": [],
   "source": [
    "temp = fits.open(f'data/{oids[0]}/{fits_list[3]}')\n",
    "test = methods.img_prep(temp)"
   ]
  },
  {
   "cell_type": "code",
   "execution_count": 6,
   "id": "d26a6de3",
   "metadata": {},
   "outputs": [
    {
     "data": {
      "text/plain": [
       "<matplotlib.colorbar.Colorbar at 0x7f99e6a06620>"
      ]
     },
     "execution_count": 6,
     "metadata": {},
     "output_type": "execute_result"
    },
    {
     "data": {
      "image/png": "[encoded data removed]",
      "text/plain": [
       "<Figure size 640x480 with 2 Axes>"
      ]
     },
     "metadata": {},
     "output_type": "display_data"
    }
   ],
   "source": [
    "plt.imshow(test)\n",
    "plt.colorbar()"
   ]
  },
  {
   "cell_type": "code",
   "execution_count": 7,
   "id": "9ce77518",
   "metadata": {},
   "outputs": [
    {
     "data": {
      "text/plain": [
       "(28, 28)"
      ]
     },
     "execution_count": 7,
     "metadata": {},
     "output_type": "execute_result"
    }
   ],
   "source": [
    "test.shape"
   ]
  },
  {
   "cell_type": "code",
   "execution_count": 9,
   "id": "883f21a6",
   "metadata": {},
   "outputs": [
    {
     "name": "stdout",
     "output_type": "stream",
     "text": [
      "13, 13\n",
      "13, 13\n"
     ]
    },
    {
     "name": "stderr",
     "output_type": "stream",
     "text": [
      "/tmp/ipykernel_25188/3273783828.py:9: UserWarning: Creating a tensor from a list of numpy.ndarrays is extremely slow. Please consider converting the list to a single numpy.ndarray with numpy.array() before converting to a tensor. (Triggered internally at ../torch/csrc/utils/tensor_new.cpp:245.)\n",
      "  train = torch.tensor(imgs)\n"
     ]
    }
   ],
   "source": [
    "imgs = []\n",
    "fits_list = os.listdir('data/643105300009229')\n",
    "for i, f in enumerate(fits_list):\n",
    "    temp = fits.open(f'data/643105300009229/{f}')\n",
    "    imgs.append(img_prep(temp))\n",
    "    #if temp[0].data.shape != (28, 28):\n",
    "     #   print(i)\n",
    "    temp.close()\n",
    "train = torch.tensor(imgs)"
   ]
  },
  {
   "cell_type": "code",
   "execution_count": 14,
   "id": "3d9190f5",
   "metadata": {},
   "outputs": [
    {
     "ename": "TypeError",
     "evalue": "FigureBase.colorbar() missing 1 required positional argument: 'mappable'",
     "output_type": "error",
     "traceback": [
      "\u001b[0;31m---------------------------------------------------------------------------\u001b[0m",
      "\u001b[0;31mTypeError\u001b[0m                                 Traceback (most recent call last)",
      "Cell \u001b[0;32mIn[14], line 6\u001b[0m\n\u001b[1;32m      4\u001b[0m ax[\u001b[38;5;241m2\u001b[39m]\u001b[38;5;241m.\u001b[39mimshow(imgs[\u001b[38;5;241m50\u001b[39m])\n\u001b[1;32m      5\u001b[0m ax[\u001b[38;5;241m3\u001b[39m]\u001b[38;5;241m.\u001b[39mimshow(imgs[\u001b[38;5;241m51\u001b[39m])\n\u001b[0;32m----> 6\u001b[0m \u001b[43mfig\u001b[49m\u001b[38;5;241;43m.\u001b[39;49m\u001b[43mcolorbar\u001b[49m\u001b[43m(\u001b[49m\u001b[43mcax\u001b[49m\u001b[38;5;241;43m=\u001b[39;49m\u001b[43max\u001b[49m\u001b[43m[\u001b[49m\u001b[38;5;241;43m0\u001b[39;49m\u001b[43m]\u001b[49m\u001b[43m)\u001b[49m\n",
      "\u001b[0;31mTypeError\u001b[0m: FigureBase.colorbar() missing 1 required positional argument: 'mappable'"
     ]
    },
    {
     "data": {
      "image/png": "[encoded data removed]",
      "text/plain": [
       "<Figure size 1000x600 with 4 Axes>"
      ]
     },
     "metadata": {},
     "output_type": "display_data"
    }
   ],
   "source": [
    "fig, ax = plt.subplots(1, 4, figsize=(10, 6))\n",
    "ax[0].imshow(imgs[48])\n",
    "ax[1].imshow(imgs[49])\n",
    "ax[2].imshow(imgs[50])\n",
    "ax[3].imshow(imgs[51])\n",
    "fig.colorbar(cax=ax[0])"
   ]
  },
  {
   "cell_type": "markdown",
   "id": "7c52a18d",
   "metadata": {},
   "source": [
    "## Check if ipac cut images the same way as cutout2d"
   ]
  },
  {
   "cell_type": "code",
   "execution_count": 120,
   "id": "ecebccb1",
   "metadata": {},
   "outputs": [],
   "source": [
    "#temp = fits.open(f'download_cuted_fits/643105300009229/{fits_list[49]}')\n",
    "url = 'https://irsa.ipac.caltech.edu/ibe/data/ztf/products/sci/2018/0711/339120/ztf_20180711339120_000643_zg_c05_o_q3_sciimg.fits'\n",
    "response = requests.get(url)\n",
    "response.raise_for_status()\n",
    "stream = BytesIO(response.content)\n",
    "stream.seek(0)\n",
    "hdus = fits.open(stream)\n"
   ]
  },
  {
   "cell_type": "code",
   "execution_count": 122,
   "id": "b00f6178",
   "metadata": {},
   "outputs": [
    {
     "name": "stdout",
     "output_type": "stream",
     "text": [
      "325.9647216796875 24.3537769317627\n"
     ]
    }
   ],
   "source": [
    "print(temp[0].header['OIDRA'], temp[0].header['OIDDEC'])"
   ]
  },
  {
   "cell_type": "code",
   "execution_count": 123,
   "id": "2877c7c7",
   "metadata": {},
   "outputs": [],
   "source": [
    "coord = SkyCoord('325.9647216796875 24.3537769317627', unit='deg', frame='icrs')\n",
    "image = deepcopy(hdus[0].data)\n",
    "currentWCS = WCS(hdus[0].header, hdus)\n",
    "cutout = Cutout2D(image, coord, (28,28), wcs=currentWCS)\n",
    "cutout_image = cutout.data #np array\n"
   ]
  },
  {
   "cell_type": "code",
   "execution_count": 126,
   "id": "05046fb9",
   "metadata": {},
   "outputs": [
    {
     "data": {
      "text/plain": [
       "array([22, 22, 22, 22, 22, 22, 22, 22, 22, 22, 22, 22, 22, 22, 22, 22, 22,\n",
       "       22, 22, 22, 22, 22, 22, 22, 22, 22, 22, 22])"
      ]
     },
     "execution_count": 126,
     "metadata": {},
     "output_type": "execute_result"
    }
   ],
   "source": [
    "sum(cutout_image == temp[0].data)"
   ]
  }
 ],
 "metadata": {
  "kernelspec": {
   "display_name": "Python 3 (ipykernel)",
   "language": "python",
   "name": "python3"
  },
  "language_info": {
   "codemirror_mode": {
    "name": "ipython",
    "version": 3
   },
   "file_extension": ".py",
   "mimetype": "text/x-python",
   "name": "python",
   "nbconvert_exporter": "python",
   "pygments_lexer": "ipython3",
   "version": "3.10.6"
  }
 },
 "nbformat": 4,
 "nbformat_minor": 5
}
