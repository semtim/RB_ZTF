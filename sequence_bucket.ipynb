{
 "cells": [
  {
   "cell_type": "code",
   "execution_count": 1,
   "id": "4f0b8fe7",
   "metadata": {},
   "outputs": [],
   "source": [
    "import torch\n",
    "import torch.nn as nn\n",
    "import timm\n",
    "from tqdm import tqdm\n",
    "import methods\n",
    "import os\n",
    "from astropy.io import fits\n",
    "from astropy.wcs import WCS, utils\n",
    "from astropy.coordinates import SkyCoord\n",
    "import matplotlib.pyplot as plt\n",
    "import numpy as np\n",
    "import json\n",
    "from io import BytesIO\n",
    "import requests\n",
    "from copy import deepcopy\n",
    "from astropy.nddata import Cutout2D\n",
    "from torch.nn.utils.rnn import pad_sequence\n",
    "from torch.utils.data import Dataset, DataLoader, random_split\n"
   ]
  },
  {
   "cell_type": "code",
   "execution_count": 2,
   "id": "ba96afbe",
   "metadata": {},
   "outputs": [],
   "source": [
    "oids, labels = methods.get_only_r_oids('akb.ztf.snad.space.json')\n",
    "data = methods.FramesSequenceData(oids, labels)"
   ]
  },
  {
   "cell_type": "code",
   "execution_count": 3,
   "id": "877b28b6",
   "metadata": {},
   "outputs": [],
   "source": [
    "np.random.seed(0)\n",
    "torch.manual_seed(0)\n",
    "x_train, _ = random_split(data, [0.01, 0.99])"
   ]
  },
  {
   "cell_type": "code",
   "execution_count": 4,
   "id": "b247d958",
   "metadata": {},
   "outputs": [],
   "source": [
    "bucket_boundaries = [200, 400, 600, 800]\n",
    "sampler = methods.BySequenceLengthSampler(x_train, bucket_boundaries, 16, drop_last=False)\n",
    "\n",
    "\n",
    "dataloader = DataLoader(x_train, batch_size=1, \n",
    "                        batch_sampler=sampler, \n",
    "                        num_workers=0, \n",
    "                        collate_fn=methods.collate,\n",
    "                        drop_last=False, pin_memory=False)\n"
   ]
  },
  {
   "cell_type": "code",
   "execution_count": 3,
   "id": "c850f127",
   "metadata": {},
   "outputs": [],
   "source": [
    "model = methods.RBclassifier(hidden_size=128)"
   ]
  },
  {
   "cell_type": "code",
   "execution_count": 11,
   "id": "e0befb74",
   "metadata": {},
   "outputs": [
    {
     "name": "stdout",
     "output_type": "stream",
     "text": [
      "============= Diagnostic Run torch.onnx.export version 2.0.0+cu117 =============\n",
      "verbose: False, log level: Level.ERROR\n",
      "======================= 0 NONE 0 NOTE 0 WARNING 0 ERROR ========================\n",
      "\n"
     ]
    },
    {
     "name": "stderr",
     "output_type": "stream",
     "text": [
      "/home/timofey/saimsu/astroenv/lib/python3.10/site-packages/torch/onnx/symbolic_opset9.py:4476: UserWarning: Exporting a model to ONNX with a batch_size other than 1, with a variable length with LSTM can cause an error when running the ONNX model with a different batch size. Make sure to save the model with a batch size of 1, or define the initial states (h0/c0) as inputs of the model. \n",
      "  warnings.warn(\n"
     ]
    }
   ],
   "source": [
    "input_name = [\"Images sequence\"]\n",
    "output_name = [\"artefact or not\"]\n",
    "\n",
    "torch.onnx.export(model, data[100][0].float(), \"rnn.onnx\", input_names=input_name, output_names=output_name)"
   ]
  },
  {
   "cell_type": "code",
   "execution_count": 7,
   "id": "8ecfa7d4",
   "metadata": {},
   "outputs": [
    {
     "data": {
      "text/plain": [
       "torch.Size([312, 1, 28, 28])"
      ]
     },
     "execution_count": 7,
     "metadata": {},
     "output_type": "execute_result"
    }
   ],
   "source": [
    "data[100][0].shape"
   ]
  },
  {
   "cell_type": "code",
   "execution_count": null,
   "id": "36016a3a",
   "metadata": {},
   "outputs": [],
   "source": []
  }
 ],
 "metadata": {
  "kernelspec": {
   "display_name": "Python 3 (ipykernel)",
   "language": "python",
   "name": "python3"
  },
  "language_info": {
   "codemirror_mode": {
    "name": "ipython",
    "version": 3
   },
   "file_extension": ".py",
   "mimetype": "text/x-python",
   "name": "python",
   "nbconvert_exporter": "python",
   "pygments_lexer": "ipython3",
   "version": "3.10.6"
  }
 },
 "nbformat": 4,
 "nbformat_minor": 5
}
