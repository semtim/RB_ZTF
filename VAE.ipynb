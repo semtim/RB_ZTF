{
 "cells": [
  {
   "cell_type": "code",
   "execution_count": 1,
   "id": "53750367",
   "metadata": {},
   "outputs": [],
   "source": [
    "import torch\n",
    "import torch.nn as nn\n",
    "import timm\n",
    "from tqdm import tqdm\n",
    "import methods\n",
    "import os\n",
    "from astropy.io import fits\n",
    "from astropy.wcs import WCS, utils\n",
    "from astropy.coordinates import SkyCoord\n",
    "import matplotlib.pyplot as plt\n",
    "import numpy as np\n",
    "import json\n",
    "from io import BytesIO\n",
    "import requests\n",
    "from copy import deepcopy\n",
    "from astropy.nddata import Cutout2D\n",
    "from torch.nn.utils.rnn import pad_sequence\n",
    "from itertools import chain\n",
    "import seaborn as sns\n",
    "from torch.utils.data import Dataset, DataLoader, random_split\n",
    "import torch.nn.functional as F\n",
    "\n",
    "device = torch.device(\"cuda\" if torch.cuda.is_available() else \"cpu\")\n"
   ]
  },
  {
   "cell_type": "code",
   "execution_count": 2,
   "id": "2ade6ae0",
   "metadata": {},
   "outputs": [],
   "source": [
    "import torch.nn as nn\n",
    "\n",
    "class Encoder(nn.Module):\n",
    "    def __init__(self, latent_dim):\n",
    "        super().__init__()\n",
    "        self.latent_dim = latent_dim # latent space size\n",
    "        hidden_dims = [16, 32, 64] # num of filters in layers\n",
    "        modules = []\n",
    "        in_channels = 1 # initial value of channels\n",
    "        for h_dim in hidden_dims: # conv layers\n",
    "            modules.append(\n",
    "                nn.Sequential(\n",
    "                    nn.Conv2d(                    \n",
    "                        in_channels=in_channels, # num of input channels \n",
    "                        out_channels=h_dim, # num of output channels \n",
    "                        kernel_size=3, \n",
    "                        stride=2, # convolution kernel step\n",
    "                        padding=1, # save shape\n",
    "                        bias=False,\n",
    "                    ),\n",
    "                    nn.BatchNorm2d(h_dim),  \n",
    "                    nn.LeakyReLU(), \n",
    "                )\n",
    "            )\n",
    "            in_channels = h_dim # changing number of input channels for next iteration\n",
    "\n",
    " \n",
    "        modules.append(nn.Flatten()) # to vector, size 512 * 2*2 = 2048\n",
    "        modules.append(nn.Linear(hidden_dims[-1] * 4 * 4, latent_dim)) \n",
    "\n",
    "        self.encoder = nn.Sequential(*modules)\n",
    "\n",
    "    def forward(self, x):\n",
    "        x = self.encoder(x)\n",
    "        return x\n",
    "\n",
    "\n",
    "class Decoder(nn.Module):\n",
    "    def __init__(self, latent_dim):\n",
    "        super().__init__()\n",
    "\n",
    "        hidden_dims = [64, 32, 16] # num of filters in layers\n",
    "        self.linear = nn.Linear(in_features=latent_dim, out_features=hidden_dims[0]*4*4) \n",
    "\n",
    "        modules = []\n",
    "        for i in range(len(hidden_dims) - 1): # define ConvTransopse layers\n",
    "            modules.append(\n",
    "                nn.Sequential(\n",
    "                    nn.ConvTranspose2d(\n",
    "                        in_channels=hidden_dims[i],\n",
    "                        out_channels=hidden_dims[i + 1],\n",
    "                        kernel_size=3,\n",
    "                        stride=2,\n",
    "                        padding=1,\n",
    "                        output_padding=1,\n",
    "                        bias=False,\n",
    "                    ),\n",
    "                    nn.BatchNorm2d(hidden_dims[i + 1]),\n",
    "                    nn.LeakyReLU(),\n",
    "                )\n",
    "            )\n",
    "\n",
    "        modules.append(\n",
    "            nn.Sequential(\n",
    "                nn.ConvTranspose2d(\n",
    "                    in_channels=hidden_dims[-1],\n",
    "                    out_channels=hidden_dims[-1],\n",
    "                    kernel_size=3,\n",
    "                    stride=2,\n",
    "                    padding=1,\n",
    "                    output_padding=1,\n",
    "                    bias=False,\n",
    "                ),\n",
    "                nn.BatchNorm2d(hidden_dims[-1]),\n",
    "                nn.LeakyReLU(),\n",
    "                nn.Conv2d(in_channels=hidden_dims[-1], out_channels=1, kernel_size=7, padding=1),\n",
    "                nn.ReLU(),\n",
    "                #nn.Sigmoid(),\n",
    "            )\n",
    "        )\n",
    "\n",
    "        self.decoder = nn.Sequential(*modules)\n",
    "\n",
    "    def forward(self, x):\n",
    "        x = self.linear(x) # from latents space to Linear \n",
    "        x = x.view(-1, 64, 4, 4) # reshape\n",
    "        x = self.decoder(x) # reconstruction\n",
    "        return x"
   ]
  },
  {
   "cell_type": "code",
   "execution_count": 3,
   "id": "6cabfc64",
   "metadata": {},
   "outputs": [],
   "source": [
    "class EncoderLin(nn.Module):\n",
    "    def __init__(self, latent_dim):\n",
    "        super().__init__()\n",
    "        self.latent_dim = latent_dim # latent space size\n",
    "        self.encoder = nn.Sequential(nn.Flatten(),\n",
    "                                    nn.Linear(784, 500),\n",
    "                                    #nn.BatchNorm1d(600),\n",
    "                                    nn.ReLU(),\n",
    "                                     \n",
    "                                    nn.Linear(500, 300),\n",
    "                                    nn.BatchNorm1d(300),\n",
    "                                    nn.ReLU(),\n",
    "                                    \n",
    "                                    nn.Linear(300, latent_dim),\n",
    "                                    #nn.BatchNorm1d(latent_dim),\n",
    "                                    nn.ReLU(),\n",
    "                                    )\n",
    "\n",
    "    def forward(self, x):\n",
    "        x = self.encoder(x)\n",
    "        return x\n",
    "\n",
    "\n",
    "class DecoderLin(nn.Module):\n",
    "    def __init__(self, latent_dim):\n",
    "        super().__init__()\n",
    "    \n",
    "        self.decoder = nn.Sequential(nn.Linear(latent_dim, 300),\n",
    "                                    #nn.BatchNorm1d(200),\n",
    "                                    nn.ReLU(),\n",
    "                                    \n",
    "                                    nn.Linear(300, 500),\n",
    "                                    nn.BatchNorm1d(500),\n",
    "                                    nn.ReLU(),\n",
    "                                     \n",
    "                                    nn.Linear(500, 784),\n",
    "                                    #nn.BatchNorm1d(600),\n",
    "                                    nn.ReLU(),\n",
    "                                    \n",
    "                                    )\n",
    "\n",
    "    def forward(self, x):\n",
    "        x = self.decoder(x) # reconstruction\n",
    "        x = x.view(-1, 1, 28, 28)\n",
    "        return x\n",
    "    \n",
    "\n",
    "    \n",
    "    \n",
    "class VAEEncoderLin(EncoderLin):\n",
    "    def __init__(self, latent_dim):\n",
    "        if latent_dim % 2 != 0: # check for the parity of the latent space\n",
    "            raise Exception(\"Latent size for VAEEncoder must be even\")\n",
    "        super().__init__(latent_dim)\n"
   ]
  },
  {
   "cell_type": "code",
   "execution_count": 4,
   "id": "a92a1d03",
   "metadata": {},
   "outputs": [],
   "source": [
    "\n",
    "'''\n",
    "Function to train model, parameters: \n",
    "  enc - encoder\n",
    "  dec - decoder\n",
    "  loader - loader of data\n",
    "  optimizer - optimizer\n",
    "  single_pass_handler - return reconstructed image, use for loss \n",
    "  loss_handler - loss function \n",
    "  epoch - num of epochs\n",
    "  log_interval - output interval\n",
    "'''\n",
    "\n",
    "\n",
    "def train(\n",
    "    enc,\n",
    "    dec,\n",
    "    loader,\n",
    "    optimizer,\n",
    "    single_pass_handler,\n",
    "    loss_handler,\n",
    "    epoch,\n",
    "    log_interval=500,\n",
    "):\n",
    "\n",
    "    for batch_idx, data in enumerate(loader): \n",
    "        batch_size = data.size(0)\n",
    "        optimizer.zero_grad()\n",
    "        data = data.to(device)\n",
    "\n",
    "        latent, output = single_pass_handler(encoder, decoder, data) # reconstructed image drom decoder \n",
    "\n",
    "        loss = loss_handler(data, output, latent) # compute loss\n",
    "        loss.backward()\n",
    "        optimizer.step()\n",
    "        if batch_idx % log_interval == 0:\n",
    "            print(\n",
    "                \"Train Epoch: {} [{}/{} ({:.0f}%)]\".format(\n",
    "                    epoch,\n",
    "                    batch_idx * len(data),\n",
    "                    len(loader.dataset),\n",
    "                    100.0 * batch_idx / len(loader),\n",
    "                ).ljust(40), \n",
    "                \"Loss: {:.6f}\".format(loss.item())\n",
    "            )\n"
   ]
  },
  {
   "cell_type": "code",
   "execution_count": 5,
   "id": "5cffeba9",
   "metadata": {},
   "outputs": [],
   "source": [
    "torch.manual_seed(42)\n",
    "\n",
    "class VAEEncoder(Encoder):\n",
    "    def __init__(self, latent_dim):\n",
    "        if latent_dim % 2 != 0: # check for the parity of the latent space\n",
    "            raise Exception(\"Latent size for VAEEncoder must be even\")\n",
    "        super().__init__(latent_dim)\n",
    "\n",
    "\n",
    "def vae_split(latent):\n",
    "    size = latent.shape[1] // 2 # divide the latent representation into mu and log_var\n",
    "    mu = latent[:, :size] \n",
    "    log_var = latent[:, size:]  \n",
    "    return mu, log_var\n",
    "\n",
    "\n",
    "def vae_reparametrize(mu, log_var): \n",
    "    sigma = torch.exp(0.5 * log_var) \n",
    "    z = torch.randn(mu.shape[0], mu.shape[1]).to(device) \n",
    "    return z * sigma + mu \n",
    "\n",
    "\n",
    "def vae_pass_handler(encoder, decoder, data, *args, **kwargs): \n",
    "    latent = encoder(data) \n",
    "    mu, log_var = vae_split(latent) \n",
    "    sample = vae_reparametrize(mu, log_var) \n",
    "    recon = decoder(sample)\n",
    "    return latent, recon\n",
    "\n",
    "\n",
    "def kld_loss(mu, log_var): \n",
    "    var = log_var.exp()\n",
    "    kl_loss = torch.mean(-0.5 * torch.sum(1 + log_var - mu ** 2 - var, dim=1), dim=0)\n",
    "    return kl_loss\n",
    "\n",
    "\n",
    "class LogCoshLoss(torch.nn.Module):\n",
    "    def __init__(self):\n",
    "        super().__init__()\n",
    "\n",
    "    def forward(self, y_t, y_prime_t):\n",
    "        ey_t = y_t - y_prime_t\n",
    "        return torch.mean(torch.log(torch.cosh(ey_t + 1e-12)))\n",
    "\n",
    "\n",
    "\n",
    "def vae_loss_handler(data, recons, latent, kld_weight=8e-5, *args, **kwargs):\n",
    "    mu, log_var = vae_split(latent)\n",
    "    kl_loss = kld_loss(mu, log_var)\n",
    "    return kld_weight * kl_loss + LogCoshLoss()(recons, data) #F.mse_loss(recons, data) #F.mse_loss(recons, data) "
   ]
  },
  {
   "cell_type": "code",
   "execution_count": 6,
   "id": "27b48635",
   "metadata": {},
   "outputs": [],
   "source": [
    "'''\n",
    "Function return transforms results to numpy for visualization \n",
    "\n",
    "encoder - encoder\n",
    "decoder - decoder\n",
    "loader - loader of data\n",
    "single_pass_handler - return latent and reconstruction transform\n",
    "return_real - return original images, True/False, default = True\n",
    "return_recon - return transformed image from decoder, True/False, default = True\n",
    "return_latent - return latent representation from encoder, True/False, default = True\n",
    "return_labels - return labels, True/False, default = True\n",
    "'''\n",
    "def run_eval(\n",
    "    encoder,\n",
    "    decoder,\n",
    "    loader,\n",
    "    single_pass_handler,\n",
    "    return_real=True,\n",
    "    return_recon=True,\n",
    "    return_latent=True,\n",
    "):\n",
    "\n",
    "    if return_real:\n",
    "        real = []\n",
    "    if return_recon:\n",
    "        reconstr = []\n",
    "    if return_latent:\n",
    "        latent = []\n",
    "    with torch.no_grad():\n",
    "        for batch_idx, data in enumerate(loader):\n",
    "            if return_real:\n",
    "                real.append(data.numpy())\n",
    "         \n",
    "            data = data.to(device)\n",
    "            rep, rec = single_pass_handler(encoder, decoder, data)\n",
    "            \n",
    "            if return_latent:\n",
    "                latent.append(rep.cpu().numpy())\n",
    "            if return_recon:\n",
    "                reconstr.append(rec.cpu().numpy())\n",
    "\n",
    "    result = {}\n",
    "    if return_real:\n",
    "        real = np.concatenate(real)\n",
    "        result[\"real\"] = real.squeeze()\n",
    "    if return_latent:\n",
    "        latent = np.concatenate(latent)\n",
    "        result[\"latent\"] = latent\n",
    "    if return_recon:\n",
    "        reconstr = np.concatenate(reconstr)\n",
    "        result[\"reconstr\"] = reconstr.squeeze()\n",
    "    return result"
   ]
  },
  {
   "cell_type": "code",
   "execution_count": 16,
   "id": "aec876cb",
   "metadata": {},
   "outputs": [],
   "source": [
    "def plot_manifold(latent_r, labels=None, alpha=0.9, title=None):\n",
    "    plt.figure(figsize=(10, 10))\n",
    "    if labels is None:\n",
    "        plt.scatter(latent_r[:, 0], latent_r[:, 1], cmap=\"tab10\", alpha=alpha)\n",
    "        if title:\n",
    "            plt.title(title)\n",
    "    else:\n",
    "        plt.scatter(latent_r[:, 0], latent_r[:, 1], c=labels, cmap=\"tab10\", alpha=alpha)\n",
    "        plt.colorbar()\n",
    "        if title:\n",
    "            plt.title(title)\n",
    "    plt.show()\n",
    "\n",
    "\n",
    "\n",
    "\n",
    "\n",
    "def plot_imgs(*args, img_size=28, name=None, single_size=2): #, invert_colors=True\n",
    "    args = [x.squeeze() for x in args]\n",
    "    n = min([x.shape[0] for x in args])\n",
    "    figure = np.ones(((img_size + 1) * len(args) + 1, (img_size + 1) * n + 1))*np.max(args)\n",
    "\n",
    "    for i in range(n):\n",
    "        for j in range(len(args)):\n",
    "            figure[\n",
    "                j * img_size + (j + 1): (j + 1) * img_size + (j + 1),\n",
    "                i * img_size + (i + 1) : (i + 1) * img_size + (i + 1),\n",
    "            ] = args[j][i].squeeze()\n",
    "\n",
    "    #if invert_colors:\n",
    "    #    figure = 1 - figure\n",
    "\n",
    "    plt.figure(figsize=(single_size * n, single_size * len(args)))\n",
    "\n",
    "    plt.imshow(figure, cmap=\"gray\")\n",
    "\n",
    "    plt.grid(False)\n",
    "    ax = plt.gca()\n",
    "    ax.get_xaxis().set_visible(False)\n",
    "    ax.get_yaxis().set_visible(False)\n",
    "    if name is not None:\n",
    "        plt.savefig(name, dpi=400, format='pdf', bbox_inches=\"tight\")\n",
    "    plt.show()"
   ]
  },
  {
   "cell_type": "code",
   "execution_count": 8,
   "id": "cec2c19c",
   "metadata": {},
   "outputs": [],
   "source": [
    "oids, targets = methods.get_only_r_oids('akb.ztf.snad.space.json')"
   ]
  },
  {
   "cell_type": "code",
   "execution_count": 9,
   "id": "2731fc01",
   "metadata": {},
   "outputs": [],
   "source": [
    "torch.manual_seed(42)\n",
    "frames_dataset = methods.AllFramesDataset(oids)\n",
    "x_train, _ = random_split(frames_dataset, [0.05, 0.95])\n",
    "train_loader = DataLoader(x_train, batch_size=64, shuffle=True)"
   ]
  },
  {
   "cell_type": "code",
   "execution_count": 10,
   "id": "e10db6aa",
   "metadata": {},
   "outputs": [
    {
     "data": {
      "text/plain": [
       "50759"
      ]
     },
     "execution_count": 10,
     "metadata": {},
     "output_type": "execute_result"
    }
   ],
   "source": [
    "len(x_train)"
   ]
  },
  {
   "cell_type": "code",
   "execution_count": 11,
   "id": "248293a0",
   "metadata": {},
   "outputs": [
    {
     "name": "stderr",
     "output_type": "stream",
     "text": [
      "\r",
      "  0%|                                                    | 0/10 [00:00<?, ?it/s]"
     ]
    },
    {
     "name": "stdout",
     "output_type": "stream",
     "text": [
      "Train Epoch: 1 [0/50759 (0%)]            Loss: 0.026282\n",
      "Train Epoch: 1 [3200/50759 (6%)]         Loss: 0.026556\n",
      "Train Epoch: 1 [6400/50759 (13%)]        Loss: 0.026831\n",
      "Train Epoch: 1 [9600/50759 (19%)]        Loss: 0.018331\n",
      "Train Epoch: 1 [12800/50759 (25%)]       Loss: 0.019339\n",
      "Train Epoch: 1 [16000/50759 (31%)]       Loss: 0.012058\n",
      "Train Epoch: 1 [19200/50759 (38%)]       Loss: 0.014338\n",
      "Train Epoch: 1 [22400/50759 (44%)]       Loss: 0.013362\n",
      "Train Epoch: 1 [25600/50759 (50%)]       Loss: 0.009355\n",
      "Train Epoch: 1 [28800/50759 (57%)]       Loss: 0.010975\n",
      "Train Epoch: 1 [32000/50759 (63%)]       Loss: 0.006485\n",
      "Train Epoch: 1 [35200/50759 (69%)]       Loss: 0.006764\n",
      "Train Epoch: 1 [38400/50759 (76%)]       Loss: 0.008132\n",
      "Train Epoch: 1 [41600/50759 (82%)]       Loss: 0.009372\n",
      "Train Epoch: 1 [44800/50759 (88%)]       Loss: 0.006767\n",
      "Train Epoch: 1 [48000/50759 (94%)]       Loss: 0.005263\n"
     ]
    },
    {
     "name": "stderr",
     "output_type": "stream",
     "text": [
      "\r",
      " 10%|████▎                                      | 1/10 [02:17<20:35, 137.26s/it]"
     ]
    },
    {
     "name": "stdout",
     "output_type": "stream",
     "text": [
      "Train Epoch: 2 [0/50759 (0%)]            Loss: 0.006057\n",
      "Train Epoch: 2 [3200/50759 (6%)]         Loss: 0.005818\n",
      "Train Epoch: 2 [6400/50759 (13%)]        Loss: 0.005579\n",
      "Train Epoch: 2 [9600/50759 (19%)]        Loss: 0.005571\n",
      "Train Epoch: 2 [12800/50759 (25%)]       Loss: 0.004960\n",
      "Train Epoch: 2 [16000/50759 (31%)]       Loss: 0.004857\n",
      "Train Epoch: 2 [19200/50759 (38%)]       Loss: 0.005906\n",
      "Train Epoch: 2 [22400/50759 (44%)]       Loss: 0.004938\n",
      "Train Epoch: 2 [25600/50759 (50%)]       Loss: 0.005569\n",
      "Train Epoch: 2 [28800/50759 (57%)]       Loss: 0.004592\n",
      "Train Epoch: 2 [32000/50759 (63%)]       Loss: 0.004859\n",
      "Train Epoch: 2 [35200/50759 (69%)]       Loss: 0.006287\n",
      "Train Epoch: 2 [38400/50759 (76%)]       Loss: 0.005732\n",
      "Train Epoch: 2 [41600/50759 (82%)]       Loss: 0.005260\n",
      "Train Epoch: 2 [44800/50759 (88%)]       Loss: 0.005919\n",
      "Train Epoch: 2 [48000/50759 (94%)]       Loss: 0.005733\n"
     ]
    },
    {
     "name": "stderr",
     "output_type": "stream",
     "text": [
      "\r",
      " 20%|████████▌                                  | 2/10 [04:16<16:54, 126.85s/it]"
     ]
    },
    {
     "name": "stdout",
     "output_type": "stream",
     "text": [
      "Train Epoch: 3 [0/50759 (0%)]            Loss: 0.006487\n",
      "Train Epoch: 3 [3200/50759 (6%)]         Loss: 0.005668\n",
      "Train Epoch: 3 [6400/50759 (13%)]        Loss: 0.004669\n",
      "Train Epoch: 3 [9600/50759 (19%)]        Loss: 0.004184\n",
      "Train Epoch: 3 [12800/50759 (25%)]       Loss: 0.004383\n",
      "Train Epoch: 3 [16000/50759 (31%)]       Loss: 0.004886\n",
      "Train Epoch: 3 [19200/50759 (38%)]       Loss: 0.004919\n",
      "Train Epoch: 3 [22400/50759 (44%)]       Loss: 0.005269\n",
      "Train Epoch: 3 [25600/50759 (50%)]       Loss: 0.005579\n",
      "Train Epoch: 3 [28800/50759 (57%)]       Loss: 0.004633\n",
      "Train Epoch: 3 [32000/50759 (63%)]       Loss: 0.003951\n",
      "Train Epoch: 3 [35200/50759 (69%)]       Loss: 0.005940\n",
      "Train Epoch: 3 [38400/50759 (76%)]       Loss: 0.004145\n",
      "Train Epoch: 3 [41600/50759 (82%)]       Loss: 0.004137\n",
      "Train Epoch: 3 [44800/50759 (88%)]       Loss: 0.004303\n",
      "Train Epoch: 3 [48000/50759 (94%)]       Loss: 0.004490\n"
     ]
    },
    {
     "name": "stderr",
     "output_type": "stream",
     "text": [
      "\r",
      " 30%|████████████▉                              | 3/10 [06:04<13:45, 118.00s/it]"
     ]
    },
    {
     "name": "stdout",
     "output_type": "stream",
     "text": [
      "Train Epoch: 4 [0/50759 (0%)]            Loss: 0.004135\n",
      "Train Epoch: 4 [3200/50759 (6%)]         Loss: 0.005678\n",
      "Train Epoch: 4 [6400/50759 (13%)]        Loss: 0.004670\n",
      "Train Epoch: 4 [9600/50759 (19%)]        Loss: 0.003624\n",
      "Train Epoch: 4 [12800/50759 (25%)]       Loss: 0.004991\n",
      "Train Epoch: 4 [16000/50759 (31%)]       Loss: 0.005126\n",
      "Train Epoch: 4 [19200/50759 (38%)]       Loss: 0.004847\n",
      "Train Epoch: 4 [22400/50759 (44%)]       Loss: 0.004584\n",
      "Train Epoch: 4 [25600/50759 (50%)]       Loss: 0.004364\n",
      "Train Epoch: 4 [28800/50759 (57%)]       Loss: 0.004918\n",
      "Train Epoch: 4 [32000/50759 (63%)]       Loss: 0.004599\n",
      "Train Epoch: 4 [35200/50759 (69%)]       Loss: 0.004649\n",
      "Train Epoch: 4 [38400/50759 (76%)]       Loss: 0.003735\n",
      "Train Epoch: 4 [41600/50759 (82%)]       Loss: 0.005151\n",
      "Train Epoch: 4 [44800/50759 (88%)]       Loss: 0.004126\n",
      "Train Epoch: 4 [48000/50759 (94%)]       Loss: 0.004544\n"
     ]
    },
    {
     "name": "stderr",
     "output_type": "stream",
     "text": [
      "\r",
      " 40%|█████████████████▏                         | 4/10 [07:53<11:26, 114.37s/it]"
     ]
    },
    {
     "name": "stdout",
     "output_type": "stream",
     "text": [
      "Train Epoch: 5 [0/50759 (0%)]            Loss: 0.004039\n",
      "Train Epoch: 5 [3200/50759 (6%)]         Loss: 0.003883\n",
      "Train Epoch: 5 [6400/50759 (13%)]        Loss: 0.003989\n",
      "Train Epoch: 5 [9600/50759 (19%)]        Loss: 0.004309\n",
      "Train Epoch: 5 [12800/50759 (25%)]       Loss: 0.003905\n",
      "Train Epoch: 5 [16000/50759 (31%)]       Loss: 0.003836\n",
      "Train Epoch: 5 [19200/50759 (38%)]       Loss: 0.004758\n",
      "Train Epoch: 5 [22400/50759 (44%)]       Loss: 0.004637\n",
      "Train Epoch: 5 [25600/50759 (50%)]       Loss: 0.004757\n",
      "Train Epoch: 5 [28800/50759 (57%)]       Loss: 0.004298\n",
      "Train Epoch: 5 [32000/50759 (63%)]       Loss: 0.007419\n",
      "Train Epoch: 5 [35200/50759 (69%)]       Loss: 0.004584\n",
      "Train Epoch: 5 [38400/50759 (76%)]       Loss: 0.004482\n",
      "Train Epoch: 5 [41600/50759 (82%)]       Loss: 0.004799\n",
      "Train Epoch: 5 [44800/50759 (88%)]       Loss: 0.003610\n",
      "Train Epoch: 5 [48000/50759 (94%)]       Loss: 0.004894\n"
     ]
    },
    {
     "name": "stderr",
     "output_type": "stream",
     "text": [
      "\r",
      " 50%|█████████████████████▌                     | 5/10 [09:44<09:27, 113.43s/it]"
     ]
    },
    {
     "name": "stdout",
     "output_type": "stream",
     "text": [
      "Train Epoch: 6 [0/50759 (0%)]            Loss: 0.004004\n",
      "Train Epoch: 6 [3200/50759 (6%)]         Loss: 0.003901\n",
      "Train Epoch: 6 [6400/50759 (13%)]        Loss: 0.004304\n",
      "Train Epoch: 6 [9600/50759 (19%)]        Loss: 0.003972\n",
      "Train Epoch: 6 [12800/50759 (25%)]       Loss: 0.004094\n",
      "Train Epoch: 6 [16000/50759 (31%)]       Loss: 0.004212\n",
      "Train Epoch: 6 [19200/50759 (38%)]       Loss: 0.004621\n",
      "Train Epoch: 6 [22400/50759 (44%)]       Loss: 0.003422\n",
      "Train Epoch: 6 [25600/50759 (50%)]       Loss: 0.004010\n",
      "Train Epoch: 6 [28800/50759 (57%)]       Loss: 0.005009\n",
      "Train Epoch: 6 [32000/50759 (63%)]       Loss: 0.003722\n",
      "Train Epoch: 6 [35200/50759 (69%)]       Loss: 0.003728\n",
      "Train Epoch: 6 [38400/50759 (76%)]       Loss: 0.003788\n",
      "Train Epoch: 6 [41600/50759 (82%)]       Loss: 0.004815\n",
      "Train Epoch: 6 [44800/50759 (88%)]       Loss: 0.004731\n",
      "Train Epoch: 6 [48000/50759 (94%)]       Loss: 0.003752\n"
     ]
    },
    {
     "name": "stderr",
     "output_type": "stream",
     "text": [
      "\r",
      " 60%|█████████████████████████▊                 | 6/10 [11:38<07:34, 113.56s/it]"
     ]
    },
    {
     "name": "stdout",
     "output_type": "stream",
     "text": [
      "Train Epoch: 7 [0/50759 (0%)]            Loss: 0.004197\n",
      "Train Epoch: 7 [3200/50759 (6%)]         Loss: 0.004292\n",
      "Train Epoch: 7 [6400/50759 (13%)]        Loss: 0.003380\n",
      "Train Epoch: 7 [9600/50759 (19%)]        Loss: 0.004294\n",
      "Train Epoch: 7 [12800/50759 (25%)]       Loss: 0.004593\n",
      "Train Epoch: 7 [16000/50759 (31%)]       Loss: 0.004374\n",
      "Train Epoch: 7 [19200/50759 (38%)]       Loss: 0.003578\n",
      "Train Epoch: 7 [22400/50759 (44%)]       Loss: 0.003710\n",
      "Train Epoch: 7 [25600/50759 (50%)]       Loss: 0.003852\n",
      "Train Epoch: 7 [28800/50759 (57%)]       Loss: 0.003990\n",
      "Train Epoch: 7 [32000/50759 (63%)]       Loss: 0.003585\n",
      "Train Epoch: 7 [35200/50759 (69%)]       Loss: 0.003631\n",
      "Train Epoch: 7 [38400/50759 (76%)]       Loss: 0.003483\n",
      "Train Epoch: 7 [41600/50759 (82%)]       Loss: 0.003566\n",
      "Train Epoch: 7 [44800/50759 (88%)]       Loss: 0.002899\n",
      "Train Epoch: 7 [48000/50759 (94%)]       Loss: 0.005121\n"
     ]
    },
    {
     "name": "stderr",
     "output_type": "stream",
     "text": [
      "\r",
      " 70%|██████████████████████████████             | 7/10 [13:34<05:42, 114.14s/it]"
     ]
    },
    {
     "name": "stdout",
     "output_type": "stream",
     "text": [
      "Train Epoch: 8 [0/50759 (0%)]            Loss: 0.003766\n",
      "Train Epoch: 8 [3200/50759 (6%)]         Loss: 0.003655\n",
      "Train Epoch: 8 [6400/50759 (13%)]        Loss: 0.004366\n",
      "Train Epoch: 8 [9600/50759 (19%)]        Loss: 0.003538\n",
      "Train Epoch: 8 [12800/50759 (25%)]       Loss: 0.003980\n",
      "Train Epoch: 8 [16000/50759 (31%)]       Loss: 0.004865\n",
      "Train Epoch: 8 [19200/50759 (38%)]       Loss: 0.003387\n",
      "Train Epoch: 8 [22400/50759 (44%)]       Loss: 0.004317\n",
      "Train Epoch: 8 [25600/50759 (50%)]       Loss: 0.003457\n",
      "Train Epoch: 8 [28800/50759 (57%)]       Loss: 0.003272\n",
      "Train Epoch: 8 [32000/50759 (63%)]       Loss: 0.004061\n",
      "Train Epoch: 8 [35200/50759 (69%)]       Loss: 0.002998\n",
      "Train Epoch: 8 [38400/50759 (76%)]       Loss: 0.003506\n",
      "Train Epoch: 8 [41600/50759 (82%)]       Loss: 0.003796\n",
      "Train Epoch: 8 [44800/50759 (88%)]       Loss: 0.003082\n",
      "Train Epoch: 8 [48000/50759 (94%)]       Loss: 0.003210\n"
     ]
    },
    {
     "name": "stderr",
     "output_type": "stream",
     "text": [
      "\r",
      " 80%|██████████████████████████████████▍        | 8/10 [15:24<03:46, 113.04s/it]"
     ]
    },
    {
     "name": "stdout",
     "output_type": "stream",
     "text": [
      "Train Epoch: 9 [0/50759 (0%)]            Loss: 0.003422\n",
      "Train Epoch: 9 [3200/50759 (6%)]         Loss: 0.003756\n",
      "Train Epoch: 9 [6400/50759 (13%)]        Loss: 0.003728\n",
      "Train Epoch: 9 [9600/50759 (19%)]        Loss: 0.003704\n",
      "Train Epoch: 9 [12800/50759 (25%)]       Loss: 0.004388\n",
      "Train Epoch: 9 [16000/50759 (31%)]       Loss: 0.003906\n",
      "Train Epoch: 9 [19200/50759 (38%)]       Loss: 0.004034\n",
      "Train Epoch: 9 [22400/50759 (44%)]       Loss: 0.003797\n",
      "Train Epoch: 9 [25600/50759 (50%)]       Loss: 0.003818\n",
      "Train Epoch: 9 [28800/50759 (57%)]       Loss: 0.003931\n",
      "Train Epoch: 9 [32000/50759 (63%)]       Loss: 0.003342\n",
      "Train Epoch: 9 [35200/50759 (69%)]       Loss: 0.003784\n",
      "Train Epoch: 9 [38400/50759 (76%)]       Loss: 0.004260\n",
      "Train Epoch: 9 [41600/50759 (82%)]       Loss: 0.003699\n",
      "Train Epoch: 9 [44800/50759 (88%)]       Loss: 0.004929\n",
      "Train Epoch: 9 [48000/50759 (94%)]       Loss: 0.003495\n"
     ]
    },
    {
     "name": "stderr",
     "output_type": "stream",
     "text": [
      "\r",
      " 90%|██████████████████████████████████████▋    | 9/10 [17:11<01:51, 111.17s/it]"
     ]
    },
    {
     "name": "stdout",
     "output_type": "stream",
     "text": [
      "Train Epoch: 10 [0/50759 (0%)]           Loss: 0.003939\n",
      "Train Epoch: 10 [3200/50759 (6%)]        Loss: 0.003556\n",
      "Train Epoch: 10 [6400/50759 (13%)]       Loss: 0.003553\n",
      "Train Epoch: 10 [9600/50759 (19%)]       Loss: 0.003816\n",
      "Train Epoch: 10 [12800/50759 (25%)]      Loss: 0.004366\n",
      "Train Epoch: 10 [16000/50759 (31%)]      Loss: 0.003890\n",
      "Train Epoch: 10 [19200/50759 (38%)]      Loss: 0.003587\n",
      "Train Epoch: 10 [22400/50759 (44%)]      Loss: 0.002955\n",
      "Train Epoch: 10 [25600/50759 (50%)]      Loss: 0.003200\n",
      "Train Epoch: 10 [28800/50759 (57%)]      Loss: 0.003273\n",
      "Train Epoch: 10 [32000/50759 (63%)]      Loss: 0.003550\n",
      "Train Epoch: 10 [35200/50759 (69%)]      Loss: 0.003638\n",
      "Train Epoch: 10 [38400/50759 (76%)]      Loss: 0.003348\n",
      "Train Epoch: 10 [41600/50759 (82%)]      Loss: 0.002878\n",
      "Train Epoch: 10 [44800/50759 (88%)]      Loss: 0.003362\n",
      "Train Epoch: 10 [48000/50759 (94%)]      Loss: 0.003412\n"
     ]
    },
    {
     "name": "stderr",
     "output_type": "stream",
     "text": [
      "100%|██████████████████████████████████████████| 10/10 [18:58<00:00, 113.83s/it]\n"
     ]
    }
   ],
   "source": [
    "torch.manual_seed(42)\n",
    "\n",
    "latent_dim = 36\n",
    "\n",
    "learning_rate = 5e-5\n",
    "encoder = VAEEncoder(latent_dim=latent_dim * 2)\n",
    "decoder = Decoder(latent_dim=latent_dim)\n",
    "\n",
    "encoder = encoder.to(device)\n",
    "decoder = decoder.to(device)\n",
    "\n",
    "optimizer = torch.optim.Adam(\n",
    "    chain(encoder.parameters(), decoder.parameters()), lr=learning_rate\n",
    ")\n",
    "for i in tqdm(range(1, 11)):\n",
    "    train(\n",
    "        enc=encoder,\n",
    "        dec=decoder,\n",
    "        optimizer=optimizer,\n",
    "        loader=train_loader,\n",
    "        epoch=i,\n",
    "        single_pass_handler=vae_pass_handler,\n",
    "        loss_handler=vae_loss_handler,\n",
    "        log_interval=50,\n",
    "    )"
   ]
  },
  {
   "cell_type": "code",
   "execution_count": 12,
   "id": "09e6992b",
   "metadata": {},
   "outputs": [],
   "source": [
    "encoder = encoder.eval()\n",
    "decoder = decoder.eval()"
   ]
  },
  {
   "cell_type": "code",
   "execution_count": 13,
   "id": "f1eaa9b6",
   "metadata": {},
   "outputs": [],
   "source": [
    "run_res = run_eval(encoder, decoder, train_loader, vae_pass_handler)"
   ]
  },
  {
   "cell_type": "code",
   "execution_count": 17,
   "id": "4cb63b8a",
   "metadata": {},
   "outputs": [
    {
     "data": {
      "image/png": "[encoded data removed]",
      "text/plain": [
       "<Figure size 2000x400 with 1 Axes>"
      ]
     },
     "metadata": {},
     "output_type": "display_data"
    }
   ],
   "source": [
    "plot_imgs(run_res['real'][:10], run_res['reconstr'][:10], name='visualizations/vae_res.pdf')"
   ]
  },
  {
   "cell_type": "code",
   "execution_count": 22,
   "id": "b6aa333e",
   "metadata": {},
   "outputs": [],
   "source": [
    "mu, log_var = vae_split(run_res['latent'])\n",
    "sigma = np.exp(0.5 * log_var)\n"
   ]
  },
  {
   "cell_type": "code",
   "execution_count": 25,
   "id": "c1869876",
   "metadata": {},
   "outputs": [
    {
     "data": {
      "text/plain": [
       "(array([   22.,    89.,   167.,  2503.,  6250.,  8790., 14245., 17367.,\n",
       "          872.,   454.]),\n",
       " array([-5.88450241, -4.96607733, -4.04765177, -3.12922645, -2.21080112,\n",
       "        -1.29237592, -0.37395063,  0.54447466,  1.46289992,  2.38132524,\n",
       "         3.29975057]),\n",
       " <BarContainer object of 10 artists>)"
      ]
     },
     "execution_count": 25,
     "metadata": {},
     "output_type": "execute_result"
    },
    {
     "data": {
      "image/png": "[encoded data removed]",
      "text/plain": [
       "<Figure size 640x480 with 1 Axes>"
      ]
     },
     "metadata": {},
     "output_type": "display_data"
    }
   ],
   "source": [
    "plt.hist(mu[:, 31])"
   ]
  },
  {
   "cell_type": "markdown",
   "id": "d1d19ed0",
   "metadata": {},
   "source": [
    "## Visualization"
   ]
  },
  {
   "cell_type": "code",
   "execution_count": 26,
   "id": "9204415c",
   "metadata": {},
   "outputs": [],
   "source": [
    "latent_dim = 36\n",
    "\n",
    "learning_rate = 5e-5\n",
    "encoder = VAEEncoder(latent_dim=latent_dim * 2)\n",
    "decoder = Decoder(latent_dim=latent_dim)\n"
   ]
  },
  {
   "cell_type": "code",
   "execution_count": 20,
   "id": "812d4c84",
   "metadata": {},
   "outputs": [
    {
     "data": {
      "text/plain": [
       "VAEEncoder(\n",
       "  (encoder): Sequential(\n",
       "    (0): Sequential(\n",
       "      (0): Conv2d(1, 16, kernel_size=(3, 3), stride=(2, 2), padding=(1, 1), bias=False)\n",
       "      (1): BatchNorm2d(16, eps=1e-05, momentum=0.1, affine=True, track_running_stats=True)\n",
       "      (2): LeakyReLU(negative_slope=0.01)\n",
       "    )\n",
       "    (1): Sequential(\n",
       "      (0): Conv2d(16, 32, kernel_size=(3, 3), stride=(2, 2), padding=(1, 1), bias=False)\n",
       "      (1): BatchNorm2d(32, eps=1e-05, momentum=0.1, affine=True, track_running_stats=True)\n",
       "      (2): LeakyReLU(negative_slope=0.01)\n",
       "    )\n",
       "    (2): Sequential(\n",
       "      (0): Conv2d(32, 64, kernel_size=(3, 3), stride=(2, 2), padding=(1, 1), bias=False)\n",
       "      (1): BatchNorm2d(64, eps=1e-05, momentum=0.1, affine=True, track_running_stats=True)\n",
       "      (2): LeakyReLU(negative_slope=0.01)\n",
       "    )\n",
       "    (3): Flatten(start_dim=1, end_dim=-1)\n",
       "    (4): Linear(in_features=1024, out_features=72, bias=True)\n",
       "  )\n",
       ")"
      ]
     },
     "execution_count": 20,
     "metadata": {},
     "output_type": "execute_result"
    }
   ],
   "source": [
    "encoder"
   ]
  },
  {
   "cell_type": "code",
   "execution_count": 11,
   "id": "a8988ffb",
   "metadata": {},
   "outputs": [],
   "source": [
    "for batch in train_loader:\n",
    "    y_enc = encoder(batch.to(device))\n",
    "    break\n",
    "\n",
    "mu, log_var = vae_split(y_enc)\n",
    "sample = vae_reparametrize(mu, log_var) \n",
    "y_dec = decoder(sample)\n"
   ]
  },
  {
   "cell_type": "code",
   "execution_count": 28,
   "id": "25829648",
   "metadata": {},
   "outputs": [
    {
     "name": "stdout",
     "output_type": "stream",
     "text": [
      "============= Diagnostic Run torch.onnx.export version 2.0.0+cu117 =============\n",
      "verbose: False, log level: Level.ERROR\n",
      "======================= 0 NONE 0 NOTE 0 WARNING 0 ERROR ========================\n",
      "\n"
     ]
    },
    {
     "ename": "ValueError",
     "evalue": "expected 4D input (got 3D input)",
     "output_type": "error",
     "traceback": [
      "\u001b[0;31m---------------------------------------------------------------------------\u001b[0m",
      "\u001b[0;31mValueError\u001b[0m                                Traceback (most recent call last)",
      "Cell \u001b[0;32mIn[28], line 4\u001b[0m\n\u001b[1;32m      1\u001b[0m input_name \u001b[38;5;241m=\u001b[39m [\u001b[38;5;124m\"\u001b[39m\u001b[38;5;124mImages\u001b[39m\u001b[38;5;124m\"\u001b[39m]\n\u001b[1;32m      2\u001b[0m output_name \u001b[38;5;241m=\u001b[39m [\u001b[38;5;124m\"\u001b[39m\u001b[38;5;124mLatent state\u001b[39m\u001b[38;5;124m\"\u001b[39m]\n\u001b[0;32m----> 4\u001b[0m \u001b[43mtorch\u001b[49m\u001b[38;5;241;43m.\u001b[39;49m\u001b[43monnx\u001b[49m\u001b[38;5;241;43m.\u001b[39;49m\u001b[43mexport\u001b[49m\u001b[43m(\u001b[49m\u001b[43mencoder\u001b[49m\u001b[38;5;241;43m.\u001b[39;49m\u001b[43mto\u001b[49m\u001b[43m(\u001b[49m\u001b[38;5;124;43m'\u001b[39;49m\u001b[38;5;124;43mcpu\u001b[39;49m\u001b[38;5;124;43m'\u001b[39;49m\u001b[43m)\u001b[49m\u001b[43m,\u001b[49m\u001b[43m \u001b[49m\u001b[43mbatch\u001b[49m\u001b[43m[\u001b[49m\u001b[38;5;241;43m0\u001b[39;49m\u001b[43m]\u001b[49m\u001b[43m,\u001b[49m\u001b[43m \u001b[49m\u001b[38;5;124;43m\"\u001b[39;49m\u001b[38;5;124;43mencoder.onnx\u001b[39;49m\u001b[38;5;124;43m\"\u001b[39;49m\u001b[43m,\u001b[49m\u001b[43m \u001b[49m\u001b[43minput_names\u001b[49m\u001b[38;5;241;43m=\u001b[39;49m\u001b[43minput_name\u001b[49m\u001b[43m,\u001b[49m\u001b[43m \u001b[49m\u001b[43moutput_names\u001b[49m\u001b[38;5;241;43m=\u001b[39;49m\u001b[43moutput_name\u001b[49m\u001b[43m)\u001b[49m\n",
      "File \u001b[0;32m~/saimsu/astroenv/lib/python3.10/site-packages/torch/onnx/utils.py:506\u001b[0m, in \u001b[0;36mexport\u001b[0;34m(model, args, f, export_params, verbose, training, input_names, output_names, operator_export_type, opset_version, do_constant_folding, dynamic_axes, keep_initializers_as_inputs, custom_opsets, export_modules_as_functions)\u001b[0m\n\u001b[1;32m    188\u001b[0m \u001b[38;5;129m@_beartype\u001b[39m\u001b[38;5;241m.\u001b[39mbeartype\n\u001b[1;32m    189\u001b[0m \u001b[38;5;28;01mdef\u001b[39;00m \u001b[38;5;21mexport\u001b[39m(\n\u001b[1;32m    190\u001b[0m     model: Union[torch\u001b[38;5;241m.\u001b[39mnn\u001b[38;5;241m.\u001b[39mModule, torch\u001b[38;5;241m.\u001b[39mjit\u001b[38;5;241m.\u001b[39mScriptModule, torch\u001b[38;5;241m.\u001b[39mjit\u001b[38;5;241m.\u001b[39mScriptFunction],\n\u001b[0;32m   (...)\u001b[0m\n\u001b[1;32m    206\u001b[0m     export_modules_as_functions: Union[\u001b[38;5;28mbool\u001b[39m, Collection[Type[torch\u001b[38;5;241m.\u001b[39mnn\u001b[38;5;241m.\u001b[39mModule]]] \u001b[38;5;241m=\u001b[39m \u001b[38;5;28;01mFalse\u001b[39;00m,\n\u001b[1;32m    207\u001b[0m ) \u001b[38;5;241m-\u001b[39m\u001b[38;5;241m>\u001b[39m \u001b[38;5;28;01mNone\u001b[39;00m:\n\u001b[1;32m    208\u001b[0m \u001b[38;5;250m    \u001b[39m\u001b[38;5;124mr\u001b[39m\u001b[38;5;124;03m\"\"\"Exports a model into ONNX format.\u001b[39;00m\n\u001b[1;32m    209\u001b[0m \n\u001b[1;32m    210\u001b[0m \u001b[38;5;124;03m    If ``model`` is not a :class:`torch.jit.ScriptModule` nor a\u001b[39;00m\n\u001b[0;32m   (...)\u001b[0m\n\u001b[1;32m    503\u001b[0m \u001b[38;5;124;03m            All errors are subclasses of :class:`errors.OnnxExporterError`.\u001b[39;00m\n\u001b[1;32m    504\u001b[0m \u001b[38;5;124;03m    \"\"\"\u001b[39;00m\n\u001b[0;32m--> 506\u001b[0m     \u001b[43m_export\u001b[49m\u001b[43m(\u001b[49m\n\u001b[1;32m    507\u001b[0m \u001b[43m        \u001b[49m\u001b[43mmodel\u001b[49m\u001b[43m,\u001b[49m\n\u001b[1;32m    508\u001b[0m \u001b[43m        \u001b[49m\u001b[43margs\u001b[49m\u001b[43m,\u001b[49m\n\u001b[1;32m    509\u001b[0m \u001b[43m        \u001b[49m\u001b[43mf\u001b[49m\u001b[43m,\u001b[49m\n\u001b[1;32m    510\u001b[0m \u001b[43m        \u001b[49m\u001b[43mexport_params\u001b[49m\u001b[43m,\u001b[49m\n\u001b[1;32m    511\u001b[0m \u001b[43m        \u001b[49m\u001b[43mverbose\u001b[49m\u001b[43m,\u001b[49m\n\u001b[1;32m    512\u001b[0m \u001b[43m        \u001b[49m\u001b[43mtraining\u001b[49m\u001b[43m,\u001b[49m\n\u001b[1;32m    513\u001b[0m \u001b[43m        \u001b[49m\u001b[43minput_names\u001b[49m\u001b[43m,\u001b[49m\n\u001b[1;32m    514\u001b[0m \u001b[43m        \u001b[49m\u001b[43moutput_names\u001b[49m\u001b[43m,\u001b[49m\n\u001b[1;32m    515\u001b[0m \u001b[43m        \u001b[49m\u001b[43moperator_export_type\u001b[49m\u001b[38;5;241;43m=\u001b[39;49m\u001b[43moperator_export_type\u001b[49m\u001b[43m,\u001b[49m\n\u001b[1;32m    516\u001b[0m \u001b[43m        \u001b[49m\u001b[43mopset_version\u001b[49m\u001b[38;5;241;43m=\u001b[39;49m\u001b[43mopset_version\u001b[49m\u001b[43m,\u001b[49m\n\u001b[1;32m    517\u001b[0m \u001b[43m        \u001b[49m\u001b[43mdo_constant_folding\u001b[49m\u001b[38;5;241;43m=\u001b[39;49m\u001b[43mdo_constant_folding\u001b[49m\u001b[43m,\u001b[49m\n\u001b[1;32m    518\u001b[0m \u001b[43m        \u001b[49m\u001b[43mdynamic_axes\u001b[49m\u001b[38;5;241;43m=\u001b[39;49m\u001b[43mdynamic_axes\u001b[49m\u001b[43m,\u001b[49m\n\u001b[1;32m    519\u001b[0m \u001b[43m        \u001b[49m\u001b[43mkeep_initializers_as_inputs\u001b[49m\u001b[38;5;241;43m=\u001b[39;49m\u001b[43mkeep_initializers_as_inputs\u001b[49m\u001b[43m,\u001b[49m\n\u001b[1;32m    520\u001b[0m \u001b[43m        \u001b[49m\u001b[43mcustom_opsets\u001b[49m\u001b[38;5;241;43m=\u001b[39;49m\u001b[43mcustom_opsets\u001b[49m\u001b[43m,\u001b[49m\n\u001b[1;32m    521\u001b[0m \u001b[43m        \u001b[49m\u001b[43mexport_modules_as_functions\u001b[49m\u001b[38;5;241;43m=\u001b[39;49m\u001b[43mexport_modules_as_functions\u001b[49m\u001b[43m,\u001b[49m\n\u001b[1;32m    522\u001b[0m \u001b[43m    \u001b[49m\u001b[43m)\u001b[49m\n",
      "File \u001b[0;32m~/saimsu/astroenv/lib/python3.10/site-packages/torch/onnx/utils.py:1548\u001b[0m, in \u001b[0;36m_export\u001b[0;34m(model, args, f, export_params, verbose, training, input_names, output_names, operator_export_type, export_type, opset_version, do_constant_folding, dynamic_axes, keep_initializers_as_inputs, fixed_batch_size, custom_opsets, add_node_names, onnx_shape_inference, export_modules_as_functions)\u001b[0m\n\u001b[1;32m   1545\u001b[0m     dynamic_axes \u001b[38;5;241m=\u001b[39m {}\n\u001b[1;32m   1546\u001b[0m _validate_dynamic_axes(dynamic_axes, model, input_names, output_names)\n\u001b[0;32m-> 1548\u001b[0m graph, params_dict, torch_out \u001b[38;5;241m=\u001b[39m \u001b[43m_model_to_graph\u001b[49m\u001b[43m(\u001b[49m\n\u001b[1;32m   1549\u001b[0m \u001b[43m    \u001b[49m\u001b[43mmodel\u001b[49m\u001b[43m,\u001b[49m\n\u001b[1;32m   1550\u001b[0m \u001b[43m    \u001b[49m\u001b[43margs\u001b[49m\u001b[43m,\u001b[49m\n\u001b[1;32m   1551\u001b[0m \u001b[43m    \u001b[49m\u001b[43mverbose\u001b[49m\u001b[43m,\u001b[49m\n\u001b[1;32m   1552\u001b[0m \u001b[43m    \u001b[49m\u001b[43minput_names\u001b[49m\u001b[43m,\u001b[49m\n\u001b[1;32m   1553\u001b[0m \u001b[43m    \u001b[49m\u001b[43moutput_names\u001b[49m\u001b[43m,\u001b[49m\n\u001b[1;32m   1554\u001b[0m \u001b[43m    \u001b[49m\u001b[43moperator_export_type\u001b[49m\u001b[43m,\u001b[49m\n\u001b[1;32m   1555\u001b[0m \u001b[43m    \u001b[49m\u001b[43mval_do_constant_folding\u001b[49m\u001b[43m,\u001b[49m\n\u001b[1;32m   1556\u001b[0m \u001b[43m    \u001b[49m\u001b[43mfixed_batch_size\u001b[49m\u001b[38;5;241;43m=\u001b[39;49m\u001b[43mfixed_batch_size\u001b[49m\u001b[43m,\u001b[49m\n\u001b[1;32m   1557\u001b[0m \u001b[43m    \u001b[49m\u001b[43mtraining\u001b[49m\u001b[38;5;241;43m=\u001b[39;49m\u001b[43mtraining\u001b[49m\u001b[43m,\u001b[49m\n\u001b[1;32m   1558\u001b[0m \u001b[43m    \u001b[49m\u001b[43mdynamic_axes\u001b[49m\u001b[38;5;241;43m=\u001b[39;49m\u001b[43mdynamic_axes\u001b[49m\u001b[43m,\u001b[49m\n\u001b[1;32m   1559\u001b[0m \u001b[43m\u001b[49m\u001b[43m)\u001b[49m\n\u001b[1;32m   1561\u001b[0m \u001b[38;5;66;03m# TODO: Don't allocate a in-memory string for the protobuf\u001b[39;00m\n\u001b[1;32m   1562\u001b[0m defer_weight_export \u001b[38;5;241m=\u001b[39m (\n\u001b[1;32m   1563\u001b[0m     export_type \u001b[38;5;129;01mis\u001b[39;00m \u001b[38;5;129;01mnot\u001b[39;00m _exporter_states\u001b[38;5;241m.\u001b[39mExportTypes\u001b[38;5;241m.\u001b[39mPROTOBUF_FILE\n\u001b[1;32m   1564\u001b[0m )\n",
      "File \u001b[0;32m~/saimsu/astroenv/lib/python3.10/site-packages/torch/onnx/utils.py:1113\u001b[0m, in \u001b[0;36m_model_to_graph\u001b[0;34m(model, args, verbose, input_names, output_names, operator_export_type, do_constant_folding, _disable_torch_constant_prop, fixed_batch_size, training, dynamic_axes)\u001b[0m\n\u001b[1;32m   1110\u001b[0m     args \u001b[38;5;241m=\u001b[39m (args,)\n\u001b[1;32m   1112\u001b[0m model \u001b[38;5;241m=\u001b[39m _pre_trace_quant_model(model, args)\n\u001b[0;32m-> 1113\u001b[0m graph, params, torch_out, module \u001b[38;5;241m=\u001b[39m \u001b[43m_create_jit_graph\u001b[49m\u001b[43m(\u001b[49m\u001b[43mmodel\u001b[49m\u001b[43m,\u001b[49m\u001b[43m \u001b[49m\u001b[43margs\u001b[49m\u001b[43m)\u001b[49m\n\u001b[1;32m   1114\u001b[0m params_dict \u001b[38;5;241m=\u001b[39m _get_named_param_dict(graph, params)\n\u001b[1;32m   1116\u001b[0m \u001b[38;5;28;01mtry\u001b[39;00m:\n",
      "File \u001b[0;32m~/saimsu/astroenv/lib/python3.10/site-packages/torch/onnx/utils.py:989\u001b[0m, in \u001b[0;36m_create_jit_graph\u001b[0;34m(model, args)\u001b[0m\n\u001b[1;32m    984\u001b[0m     graph \u001b[38;5;241m=\u001b[39m _C\u001b[38;5;241m.\u001b[39m_propagate_and_assign_input_shapes(\n\u001b[1;32m    985\u001b[0m         graph, flattened_args, param_count_list, \u001b[38;5;28;01mFalse\u001b[39;00m, \u001b[38;5;28;01mFalse\u001b[39;00m\n\u001b[1;32m    986\u001b[0m     )\n\u001b[1;32m    987\u001b[0m     \u001b[38;5;28;01mreturn\u001b[39;00m graph, params, torch_out, \u001b[38;5;28;01mNone\u001b[39;00m\n\u001b[0;32m--> 989\u001b[0m graph, torch_out \u001b[38;5;241m=\u001b[39m \u001b[43m_trace_and_get_graph_from_model\u001b[49m\u001b[43m(\u001b[49m\u001b[43mmodel\u001b[49m\u001b[43m,\u001b[49m\u001b[43m \u001b[49m\u001b[43margs\u001b[49m\u001b[43m)\u001b[49m\n\u001b[1;32m    990\u001b[0m _C\u001b[38;5;241m.\u001b[39m_jit_pass_onnx_lint(graph)\n\u001b[1;32m    991\u001b[0m state_dict \u001b[38;5;241m=\u001b[39m torch\u001b[38;5;241m.\u001b[39mjit\u001b[38;5;241m.\u001b[39m_unique_state_dict(model)\n",
      "File \u001b[0;32m~/saimsu/astroenv/lib/python3.10/site-packages/torch/onnx/utils.py:893\u001b[0m, in \u001b[0;36m_trace_and_get_graph_from_model\u001b[0;34m(model, args)\u001b[0m\n\u001b[1;32m    891\u001b[0m prev_autocast_cache_enabled \u001b[38;5;241m=\u001b[39m torch\u001b[38;5;241m.\u001b[39mis_autocast_cache_enabled()\n\u001b[1;32m    892\u001b[0m torch\u001b[38;5;241m.\u001b[39mset_autocast_cache_enabled(\u001b[38;5;28;01mFalse\u001b[39;00m)\n\u001b[0;32m--> 893\u001b[0m trace_graph, torch_out, inputs_states \u001b[38;5;241m=\u001b[39m \u001b[43mtorch\u001b[49m\u001b[38;5;241;43m.\u001b[39;49m\u001b[43mjit\u001b[49m\u001b[38;5;241;43m.\u001b[39;49m\u001b[43m_get_trace_graph\u001b[49m\u001b[43m(\u001b[49m\n\u001b[1;32m    894\u001b[0m \u001b[43m    \u001b[49m\u001b[43mmodel\u001b[49m\u001b[43m,\u001b[49m\n\u001b[1;32m    895\u001b[0m \u001b[43m    \u001b[49m\u001b[43margs\u001b[49m\u001b[43m,\u001b[49m\n\u001b[1;32m    896\u001b[0m \u001b[43m    \u001b[49m\u001b[43mstrict\u001b[49m\u001b[38;5;241;43m=\u001b[39;49m\u001b[38;5;28;43;01mFalse\u001b[39;49;00m\u001b[43m,\u001b[49m\n\u001b[1;32m    897\u001b[0m \u001b[43m    \u001b[49m\u001b[43m_force_outplace\u001b[49m\u001b[38;5;241;43m=\u001b[39;49m\u001b[38;5;28;43;01mFalse\u001b[39;49;00m\u001b[43m,\u001b[49m\n\u001b[1;32m    898\u001b[0m \u001b[43m    \u001b[49m\u001b[43m_return_inputs_states\u001b[49m\u001b[38;5;241;43m=\u001b[39;49m\u001b[38;5;28;43;01mTrue\u001b[39;49;00m\u001b[43m,\u001b[49m\n\u001b[1;32m    899\u001b[0m \u001b[43m\u001b[49m\u001b[43m)\u001b[49m\n\u001b[1;32m    900\u001b[0m torch\u001b[38;5;241m.\u001b[39mset_autocast_cache_enabled(prev_autocast_cache_enabled)\n\u001b[1;32m    902\u001b[0m warn_on_static_input_change(inputs_states)\n",
      "File \u001b[0;32m~/saimsu/astroenv/lib/python3.10/site-packages/torch/jit/_trace.py:1268\u001b[0m, in \u001b[0;36m_get_trace_graph\u001b[0;34m(f, args, kwargs, strict, _force_outplace, return_inputs, _return_inputs_states)\u001b[0m\n\u001b[1;32m   1266\u001b[0m \u001b[38;5;28;01mif\u001b[39;00m \u001b[38;5;129;01mnot\u001b[39;00m \u001b[38;5;28misinstance\u001b[39m(args, \u001b[38;5;28mtuple\u001b[39m):\n\u001b[1;32m   1267\u001b[0m     args \u001b[38;5;241m=\u001b[39m (args,)\n\u001b[0;32m-> 1268\u001b[0m outs \u001b[38;5;241m=\u001b[39m \u001b[43mONNXTracedModule\u001b[49m\u001b[43m(\u001b[49m\u001b[43mf\u001b[49m\u001b[43m,\u001b[49m\u001b[43m \u001b[49m\u001b[43mstrict\u001b[49m\u001b[43m,\u001b[49m\u001b[43m \u001b[49m\u001b[43m_force_outplace\u001b[49m\u001b[43m,\u001b[49m\u001b[43m \u001b[49m\u001b[43mreturn_inputs\u001b[49m\u001b[43m,\u001b[49m\u001b[43m \u001b[49m\u001b[43m_return_inputs_states\u001b[49m\u001b[43m)\u001b[49m\u001b[43m(\u001b[49m\u001b[38;5;241;43m*\u001b[39;49m\u001b[43margs\u001b[49m\u001b[43m,\u001b[49m\u001b[43m \u001b[49m\u001b[38;5;241;43m*\u001b[39;49m\u001b[38;5;241;43m*\u001b[39;49m\u001b[43mkwargs\u001b[49m\u001b[43m)\u001b[49m\n\u001b[1;32m   1269\u001b[0m \u001b[38;5;28;01mreturn\u001b[39;00m outs\n",
      "File \u001b[0;32m~/saimsu/astroenv/lib/python3.10/site-packages/torch/nn/modules/module.py:1501\u001b[0m, in \u001b[0;36mModule._call_impl\u001b[0;34m(self, *args, **kwargs)\u001b[0m\n\u001b[1;32m   1496\u001b[0m \u001b[38;5;66;03m# If we don't have any hooks, we want to skip the rest of the logic in\u001b[39;00m\n\u001b[1;32m   1497\u001b[0m \u001b[38;5;66;03m# this function, and just call forward.\u001b[39;00m\n\u001b[1;32m   1498\u001b[0m \u001b[38;5;28;01mif\u001b[39;00m \u001b[38;5;129;01mnot\u001b[39;00m (\u001b[38;5;28mself\u001b[39m\u001b[38;5;241m.\u001b[39m_backward_hooks \u001b[38;5;129;01mor\u001b[39;00m \u001b[38;5;28mself\u001b[39m\u001b[38;5;241m.\u001b[39m_backward_pre_hooks \u001b[38;5;129;01mor\u001b[39;00m \u001b[38;5;28mself\u001b[39m\u001b[38;5;241m.\u001b[39m_forward_hooks \u001b[38;5;129;01mor\u001b[39;00m \u001b[38;5;28mself\u001b[39m\u001b[38;5;241m.\u001b[39m_forward_pre_hooks\n\u001b[1;32m   1499\u001b[0m         \u001b[38;5;129;01mor\u001b[39;00m _global_backward_pre_hooks \u001b[38;5;129;01mor\u001b[39;00m _global_backward_hooks\n\u001b[1;32m   1500\u001b[0m         \u001b[38;5;129;01mor\u001b[39;00m _global_forward_hooks \u001b[38;5;129;01mor\u001b[39;00m _global_forward_pre_hooks):\n\u001b[0;32m-> 1501\u001b[0m     \u001b[38;5;28;01mreturn\u001b[39;00m \u001b[43mforward_call\u001b[49m\u001b[43m(\u001b[49m\u001b[38;5;241;43m*\u001b[39;49m\u001b[43margs\u001b[49m\u001b[43m,\u001b[49m\u001b[43m \u001b[49m\u001b[38;5;241;43m*\u001b[39;49m\u001b[38;5;241;43m*\u001b[39;49m\u001b[43mkwargs\u001b[49m\u001b[43m)\u001b[49m\n\u001b[1;32m   1502\u001b[0m \u001b[38;5;66;03m# Do not call functions when jit is used\u001b[39;00m\n\u001b[1;32m   1503\u001b[0m full_backward_hooks, non_full_backward_hooks \u001b[38;5;241m=\u001b[39m [], []\n",
      "File \u001b[0;32m~/saimsu/astroenv/lib/python3.10/site-packages/torch/jit/_trace.py:127\u001b[0m, in \u001b[0;36mONNXTracedModule.forward\u001b[0;34m(self, *args)\u001b[0m\n\u001b[1;32m    124\u001b[0m     \u001b[38;5;28;01melse\u001b[39;00m:\n\u001b[1;32m    125\u001b[0m         \u001b[38;5;28;01mreturn\u001b[39;00m \u001b[38;5;28mtuple\u001b[39m(out_vars)\n\u001b[0;32m--> 127\u001b[0m graph, out \u001b[38;5;241m=\u001b[39m \u001b[43mtorch\u001b[49m\u001b[38;5;241;43m.\u001b[39;49m\u001b[43m_C\u001b[49m\u001b[38;5;241;43m.\u001b[39;49m\u001b[43m_create_graph_by_tracing\u001b[49m\u001b[43m(\u001b[49m\n\u001b[1;32m    128\u001b[0m \u001b[43m    \u001b[49m\u001b[43mwrapper\u001b[49m\u001b[43m,\u001b[49m\n\u001b[1;32m    129\u001b[0m \u001b[43m    \u001b[49m\u001b[43min_vars\u001b[49m\u001b[43m \u001b[49m\u001b[38;5;241;43m+\u001b[39;49m\u001b[43m \u001b[49m\u001b[43mmodule_state\u001b[49m\u001b[43m,\u001b[49m\n\u001b[1;32m    130\u001b[0m \u001b[43m    \u001b[49m\u001b[43m_create_interpreter_name_lookup_fn\u001b[49m\u001b[43m(\u001b[49m\u001b[43m)\u001b[49m\u001b[43m,\u001b[49m\n\u001b[1;32m    131\u001b[0m \u001b[43m    \u001b[49m\u001b[38;5;28;43mself\u001b[39;49m\u001b[38;5;241;43m.\u001b[39;49m\u001b[43mstrict\u001b[49m\u001b[43m,\u001b[49m\n\u001b[1;32m    132\u001b[0m \u001b[43m    \u001b[49m\u001b[38;5;28;43mself\u001b[39;49m\u001b[38;5;241;43m.\u001b[39;49m\u001b[43m_force_outplace\u001b[49m\u001b[43m,\u001b[49m\n\u001b[1;32m    133\u001b[0m \u001b[43m\u001b[49m\u001b[43m)\u001b[49m\n\u001b[1;32m    135\u001b[0m \u001b[38;5;28;01mif\u001b[39;00m \u001b[38;5;28mself\u001b[39m\u001b[38;5;241m.\u001b[39m_return_inputs:\n\u001b[1;32m    136\u001b[0m     \u001b[38;5;28;01mreturn\u001b[39;00m graph, outs[\u001b[38;5;241m0\u001b[39m], ret_inputs[\u001b[38;5;241m0\u001b[39m]\n",
      "File \u001b[0;32m~/saimsu/astroenv/lib/python3.10/site-packages/torch/jit/_trace.py:118\u001b[0m, in \u001b[0;36mONNXTracedModule.forward.<locals>.wrapper\u001b[0;34m(*args)\u001b[0m\n\u001b[1;32m    116\u001b[0m \u001b[38;5;28;01mif\u001b[39;00m \u001b[38;5;28mself\u001b[39m\u001b[38;5;241m.\u001b[39m_return_inputs_states:\n\u001b[1;32m    117\u001b[0m     inputs_states\u001b[38;5;241m.\u001b[39mappend(_unflatten(in_args, in_desc))\n\u001b[0;32m--> 118\u001b[0m outs\u001b[38;5;241m.\u001b[39mappend(\u001b[38;5;28;43mself\u001b[39;49m\u001b[38;5;241;43m.\u001b[39;49m\u001b[43minner\u001b[49m\u001b[43m(\u001b[49m\u001b[38;5;241;43m*\u001b[39;49m\u001b[43mtrace_inputs\u001b[49m\u001b[43m)\u001b[49m)\n\u001b[1;32m    119\u001b[0m \u001b[38;5;28;01mif\u001b[39;00m \u001b[38;5;28mself\u001b[39m\u001b[38;5;241m.\u001b[39m_return_inputs_states:\n\u001b[1;32m    120\u001b[0m     inputs_states[\u001b[38;5;241m0\u001b[39m] \u001b[38;5;241m=\u001b[39m (inputs_states[\u001b[38;5;241m0\u001b[39m], trace_inputs)\n",
      "File \u001b[0;32m~/saimsu/astroenv/lib/python3.10/site-packages/torch/nn/modules/module.py:1501\u001b[0m, in \u001b[0;36mModule._call_impl\u001b[0;34m(self, *args, **kwargs)\u001b[0m\n\u001b[1;32m   1496\u001b[0m \u001b[38;5;66;03m# If we don't have any hooks, we want to skip the rest of the logic in\u001b[39;00m\n\u001b[1;32m   1497\u001b[0m \u001b[38;5;66;03m# this function, and just call forward.\u001b[39;00m\n\u001b[1;32m   1498\u001b[0m \u001b[38;5;28;01mif\u001b[39;00m \u001b[38;5;129;01mnot\u001b[39;00m (\u001b[38;5;28mself\u001b[39m\u001b[38;5;241m.\u001b[39m_backward_hooks \u001b[38;5;129;01mor\u001b[39;00m \u001b[38;5;28mself\u001b[39m\u001b[38;5;241m.\u001b[39m_backward_pre_hooks \u001b[38;5;129;01mor\u001b[39;00m \u001b[38;5;28mself\u001b[39m\u001b[38;5;241m.\u001b[39m_forward_hooks \u001b[38;5;129;01mor\u001b[39;00m \u001b[38;5;28mself\u001b[39m\u001b[38;5;241m.\u001b[39m_forward_pre_hooks\n\u001b[1;32m   1499\u001b[0m         \u001b[38;5;129;01mor\u001b[39;00m _global_backward_pre_hooks \u001b[38;5;129;01mor\u001b[39;00m _global_backward_hooks\n\u001b[1;32m   1500\u001b[0m         \u001b[38;5;129;01mor\u001b[39;00m _global_forward_hooks \u001b[38;5;129;01mor\u001b[39;00m _global_forward_pre_hooks):\n\u001b[0;32m-> 1501\u001b[0m     \u001b[38;5;28;01mreturn\u001b[39;00m \u001b[43mforward_call\u001b[49m\u001b[43m(\u001b[49m\u001b[38;5;241;43m*\u001b[39;49m\u001b[43margs\u001b[49m\u001b[43m,\u001b[49m\u001b[43m \u001b[49m\u001b[38;5;241;43m*\u001b[39;49m\u001b[38;5;241;43m*\u001b[39;49m\u001b[43mkwargs\u001b[49m\u001b[43m)\u001b[49m\n\u001b[1;32m   1502\u001b[0m \u001b[38;5;66;03m# Do not call functions when jit is used\u001b[39;00m\n\u001b[1;32m   1503\u001b[0m full_backward_hooks, non_full_backward_hooks \u001b[38;5;241m=\u001b[39m [], []\n",
      "File \u001b[0;32m~/saimsu/astroenv/lib/python3.10/site-packages/torch/nn/modules/module.py:1488\u001b[0m, in \u001b[0;36mModule._slow_forward\u001b[0;34m(self, *input, **kwargs)\u001b[0m\n\u001b[1;32m   1486\u001b[0m         recording_scopes \u001b[38;5;241m=\u001b[39m \u001b[38;5;28;01mFalse\u001b[39;00m\n\u001b[1;32m   1487\u001b[0m \u001b[38;5;28;01mtry\u001b[39;00m:\n\u001b[0;32m-> 1488\u001b[0m     result \u001b[38;5;241m=\u001b[39m \u001b[38;5;28;43mself\u001b[39;49m\u001b[38;5;241;43m.\u001b[39;49m\u001b[43mforward\u001b[49m\u001b[43m(\u001b[49m\u001b[38;5;241;43m*\u001b[39;49m\u001b[38;5;28;43minput\u001b[39;49m\u001b[43m,\u001b[49m\u001b[43m \u001b[49m\u001b[38;5;241;43m*\u001b[39;49m\u001b[38;5;241;43m*\u001b[39;49m\u001b[43mkwargs\u001b[49m\u001b[43m)\u001b[49m\n\u001b[1;32m   1489\u001b[0m \u001b[38;5;28;01mfinally\u001b[39;00m:\n\u001b[1;32m   1490\u001b[0m     \u001b[38;5;28;01mif\u001b[39;00m recording_scopes:\n",
      "Cell \u001b[0;32mIn[2], line 40\u001b[0m, in \u001b[0;36mEncoder.forward\u001b[0;34m(self, x)\u001b[0m\n\u001b[1;32m     39\u001b[0m \u001b[38;5;28;01mdef\u001b[39;00m \u001b[38;5;21mforward\u001b[39m(\u001b[38;5;28mself\u001b[39m, x):\n\u001b[0;32m---> 40\u001b[0m     x \u001b[38;5;241m=\u001b[39m \u001b[38;5;28;43mself\u001b[39;49m\u001b[38;5;241;43m.\u001b[39;49m\u001b[43mencoder\u001b[49m\u001b[43m(\u001b[49m\u001b[43mx\u001b[49m\u001b[43m)\u001b[49m\n\u001b[1;32m     41\u001b[0m     \u001b[38;5;28;01mreturn\u001b[39;00m x\n",
      "File \u001b[0;32m~/saimsu/astroenv/lib/python3.10/site-packages/torch/nn/modules/module.py:1501\u001b[0m, in \u001b[0;36mModule._call_impl\u001b[0;34m(self, *args, **kwargs)\u001b[0m\n\u001b[1;32m   1496\u001b[0m \u001b[38;5;66;03m# If we don't have any hooks, we want to skip the rest of the logic in\u001b[39;00m\n\u001b[1;32m   1497\u001b[0m \u001b[38;5;66;03m# this function, and just call forward.\u001b[39;00m\n\u001b[1;32m   1498\u001b[0m \u001b[38;5;28;01mif\u001b[39;00m \u001b[38;5;129;01mnot\u001b[39;00m (\u001b[38;5;28mself\u001b[39m\u001b[38;5;241m.\u001b[39m_backward_hooks \u001b[38;5;129;01mor\u001b[39;00m \u001b[38;5;28mself\u001b[39m\u001b[38;5;241m.\u001b[39m_backward_pre_hooks \u001b[38;5;129;01mor\u001b[39;00m \u001b[38;5;28mself\u001b[39m\u001b[38;5;241m.\u001b[39m_forward_hooks \u001b[38;5;129;01mor\u001b[39;00m \u001b[38;5;28mself\u001b[39m\u001b[38;5;241m.\u001b[39m_forward_pre_hooks\n\u001b[1;32m   1499\u001b[0m         \u001b[38;5;129;01mor\u001b[39;00m _global_backward_pre_hooks \u001b[38;5;129;01mor\u001b[39;00m _global_backward_hooks\n\u001b[1;32m   1500\u001b[0m         \u001b[38;5;129;01mor\u001b[39;00m _global_forward_hooks \u001b[38;5;129;01mor\u001b[39;00m _global_forward_pre_hooks):\n\u001b[0;32m-> 1501\u001b[0m     \u001b[38;5;28;01mreturn\u001b[39;00m \u001b[43mforward_call\u001b[49m\u001b[43m(\u001b[49m\u001b[38;5;241;43m*\u001b[39;49m\u001b[43margs\u001b[49m\u001b[43m,\u001b[49m\u001b[43m \u001b[49m\u001b[38;5;241;43m*\u001b[39;49m\u001b[38;5;241;43m*\u001b[39;49m\u001b[43mkwargs\u001b[49m\u001b[43m)\u001b[49m\n\u001b[1;32m   1502\u001b[0m \u001b[38;5;66;03m# Do not call functions when jit is used\u001b[39;00m\n\u001b[1;32m   1503\u001b[0m full_backward_hooks, non_full_backward_hooks \u001b[38;5;241m=\u001b[39m [], []\n",
      "File \u001b[0;32m~/saimsu/astroenv/lib/python3.10/site-packages/torch/nn/modules/module.py:1488\u001b[0m, in \u001b[0;36mModule._slow_forward\u001b[0;34m(self, *input, **kwargs)\u001b[0m\n\u001b[1;32m   1486\u001b[0m         recording_scopes \u001b[38;5;241m=\u001b[39m \u001b[38;5;28;01mFalse\u001b[39;00m\n\u001b[1;32m   1487\u001b[0m \u001b[38;5;28;01mtry\u001b[39;00m:\n\u001b[0;32m-> 1488\u001b[0m     result \u001b[38;5;241m=\u001b[39m \u001b[38;5;28;43mself\u001b[39;49m\u001b[38;5;241;43m.\u001b[39;49m\u001b[43mforward\u001b[49m\u001b[43m(\u001b[49m\u001b[38;5;241;43m*\u001b[39;49m\u001b[38;5;28;43minput\u001b[39;49m\u001b[43m,\u001b[49m\u001b[43m \u001b[49m\u001b[38;5;241;43m*\u001b[39;49m\u001b[38;5;241;43m*\u001b[39;49m\u001b[43mkwargs\u001b[49m\u001b[43m)\u001b[49m\n\u001b[1;32m   1489\u001b[0m \u001b[38;5;28;01mfinally\u001b[39;00m:\n\u001b[1;32m   1490\u001b[0m     \u001b[38;5;28;01mif\u001b[39;00m recording_scopes:\n",
      "File \u001b[0;32m~/saimsu/astroenv/lib/python3.10/site-packages/torch/nn/modules/container.py:217\u001b[0m, in \u001b[0;36mSequential.forward\u001b[0;34m(self, input)\u001b[0m\n\u001b[1;32m    215\u001b[0m \u001b[38;5;28;01mdef\u001b[39;00m \u001b[38;5;21mforward\u001b[39m(\u001b[38;5;28mself\u001b[39m, \u001b[38;5;28minput\u001b[39m):\n\u001b[1;32m    216\u001b[0m     \u001b[38;5;28;01mfor\u001b[39;00m module \u001b[38;5;129;01min\u001b[39;00m \u001b[38;5;28mself\u001b[39m:\n\u001b[0;32m--> 217\u001b[0m         \u001b[38;5;28minput\u001b[39m \u001b[38;5;241m=\u001b[39m \u001b[43mmodule\u001b[49m\u001b[43m(\u001b[49m\u001b[38;5;28;43minput\u001b[39;49m\u001b[43m)\u001b[49m\n\u001b[1;32m    218\u001b[0m     \u001b[38;5;28;01mreturn\u001b[39;00m \u001b[38;5;28minput\u001b[39m\n",
      "File \u001b[0;32m~/saimsu/astroenv/lib/python3.10/site-packages/torch/nn/modules/module.py:1501\u001b[0m, in \u001b[0;36mModule._call_impl\u001b[0;34m(self, *args, **kwargs)\u001b[0m\n\u001b[1;32m   1496\u001b[0m \u001b[38;5;66;03m# If we don't have any hooks, we want to skip the rest of the logic in\u001b[39;00m\n\u001b[1;32m   1497\u001b[0m \u001b[38;5;66;03m# this function, and just call forward.\u001b[39;00m\n\u001b[1;32m   1498\u001b[0m \u001b[38;5;28;01mif\u001b[39;00m \u001b[38;5;129;01mnot\u001b[39;00m (\u001b[38;5;28mself\u001b[39m\u001b[38;5;241m.\u001b[39m_backward_hooks \u001b[38;5;129;01mor\u001b[39;00m \u001b[38;5;28mself\u001b[39m\u001b[38;5;241m.\u001b[39m_backward_pre_hooks \u001b[38;5;129;01mor\u001b[39;00m \u001b[38;5;28mself\u001b[39m\u001b[38;5;241m.\u001b[39m_forward_hooks \u001b[38;5;129;01mor\u001b[39;00m \u001b[38;5;28mself\u001b[39m\u001b[38;5;241m.\u001b[39m_forward_pre_hooks\n\u001b[1;32m   1499\u001b[0m         \u001b[38;5;129;01mor\u001b[39;00m _global_backward_pre_hooks \u001b[38;5;129;01mor\u001b[39;00m _global_backward_hooks\n\u001b[1;32m   1500\u001b[0m         \u001b[38;5;129;01mor\u001b[39;00m _global_forward_hooks \u001b[38;5;129;01mor\u001b[39;00m _global_forward_pre_hooks):\n\u001b[0;32m-> 1501\u001b[0m     \u001b[38;5;28;01mreturn\u001b[39;00m \u001b[43mforward_call\u001b[49m\u001b[43m(\u001b[49m\u001b[38;5;241;43m*\u001b[39;49m\u001b[43margs\u001b[49m\u001b[43m,\u001b[49m\u001b[43m \u001b[49m\u001b[38;5;241;43m*\u001b[39;49m\u001b[38;5;241;43m*\u001b[39;49m\u001b[43mkwargs\u001b[49m\u001b[43m)\u001b[49m\n\u001b[1;32m   1502\u001b[0m \u001b[38;5;66;03m# Do not call functions when jit is used\u001b[39;00m\n\u001b[1;32m   1503\u001b[0m full_backward_hooks, non_full_backward_hooks \u001b[38;5;241m=\u001b[39m [], []\n",
      "File \u001b[0;32m~/saimsu/astroenv/lib/python3.10/site-packages/torch/nn/modules/module.py:1488\u001b[0m, in \u001b[0;36mModule._slow_forward\u001b[0;34m(self, *input, **kwargs)\u001b[0m\n\u001b[1;32m   1486\u001b[0m         recording_scopes \u001b[38;5;241m=\u001b[39m \u001b[38;5;28;01mFalse\u001b[39;00m\n\u001b[1;32m   1487\u001b[0m \u001b[38;5;28;01mtry\u001b[39;00m:\n\u001b[0;32m-> 1488\u001b[0m     result \u001b[38;5;241m=\u001b[39m \u001b[38;5;28;43mself\u001b[39;49m\u001b[38;5;241;43m.\u001b[39;49m\u001b[43mforward\u001b[49m\u001b[43m(\u001b[49m\u001b[38;5;241;43m*\u001b[39;49m\u001b[38;5;28;43minput\u001b[39;49m\u001b[43m,\u001b[49m\u001b[43m \u001b[49m\u001b[38;5;241;43m*\u001b[39;49m\u001b[38;5;241;43m*\u001b[39;49m\u001b[43mkwargs\u001b[49m\u001b[43m)\u001b[49m\n\u001b[1;32m   1489\u001b[0m \u001b[38;5;28;01mfinally\u001b[39;00m:\n\u001b[1;32m   1490\u001b[0m     \u001b[38;5;28;01mif\u001b[39;00m recording_scopes:\n",
      "File \u001b[0;32m~/saimsu/astroenv/lib/python3.10/site-packages/torch/nn/modules/container.py:217\u001b[0m, in \u001b[0;36mSequential.forward\u001b[0;34m(self, input)\u001b[0m\n\u001b[1;32m    215\u001b[0m \u001b[38;5;28;01mdef\u001b[39;00m \u001b[38;5;21mforward\u001b[39m(\u001b[38;5;28mself\u001b[39m, \u001b[38;5;28minput\u001b[39m):\n\u001b[1;32m    216\u001b[0m     \u001b[38;5;28;01mfor\u001b[39;00m module \u001b[38;5;129;01min\u001b[39;00m \u001b[38;5;28mself\u001b[39m:\n\u001b[0;32m--> 217\u001b[0m         \u001b[38;5;28minput\u001b[39m \u001b[38;5;241m=\u001b[39m \u001b[43mmodule\u001b[49m\u001b[43m(\u001b[49m\u001b[38;5;28;43minput\u001b[39;49m\u001b[43m)\u001b[49m\n\u001b[1;32m    218\u001b[0m     \u001b[38;5;28;01mreturn\u001b[39;00m \u001b[38;5;28minput\u001b[39m\n",
      "File \u001b[0;32m~/saimsu/astroenv/lib/python3.10/site-packages/torch/nn/modules/module.py:1501\u001b[0m, in \u001b[0;36mModule._call_impl\u001b[0;34m(self, *args, **kwargs)\u001b[0m\n\u001b[1;32m   1496\u001b[0m \u001b[38;5;66;03m# If we don't have any hooks, we want to skip the rest of the logic in\u001b[39;00m\n\u001b[1;32m   1497\u001b[0m \u001b[38;5;66;03m# this function, and just call forward.\u001b[39;00m\n\u001b[1;32m   1498\u001b[0m \u001b[38;5;28;01mif\u001b[39;00m \u001b[38;5;129;01mnot\u001b[39;00m (\u001b[38;5;28mself\u001b[39m\u001b[38;5;241m.\u001b[39m_backward_hooks \u001b[38;5;129;01mor\u001b[39;00m \u001b[38;5;28mself\u001b[39m\u001b[38;5;241m.\u001b[39m_backward_pre_hooks \u001b[38;5;129;01mor\u001b[39;00m \u001b[38;5;28mself\u001b[39m\u001b[38;5;241m.\u001b[39m_forward_hooks \u001b[38;5;129;01mor\u001b[39;00m \u001b[38;5;28mself\u001b[39m\u001b[38;5;241m.\u001b[39m_forward_pre_hooks\n\u001b[1;32m   1499\u001b[0m         \u001b[38;5;129;01mor\u001b[39;00m _global_backward_pre_hooks \u001b[38;5;129;01mor\u001b[39;00m _global_backward_hooks\n\u001b[1;32m   1500\u001b[0m         \u001b[38;5;129;01mor\u001b[39;00m _global_forward_hooks \u001b[38;5;129;01mor\u001b[39;00m _global_forward_pre_hooks):\n\u001b[0;32m-> 1501\u001b[0m     \u001b[38;5;28;01mreturn\u001b[39;00m \u001b[43mforward_call\u001b[49m\u001b[43m(\u001b[49m\u001b[38;5;241;43m*\u001b[39;49m\u001b[43margs\u001b[49m\u001b[43m,\u001b[49m\u001b[43m \u001b[49m\u001b[38;5;241;43m*\u001b[39;49m\u001b[38;5;241;43m*\u001b[39;49m\u001b[43mkwargs\u001b[49m\u001b[43m)\u001b[49m\n\u001b[1;32m   1502\u001b[0m \u001b[38;5;66;03m# Do not call functions when jit is used\u001b[39;00m\n\u001b[1;32m   1503\u001b[0m full_backward_hooks, non_full_backward_hooks \u001b[38;5;241m=\u001b[39m [], []\n",
      "File \u001b[0;32m~/saimsu/astroenv/lib/python3.10/site-packages/torch/nn/modules/module.py:1488\u001b[0m, in \u001b[0;36mModule._slow_forward\u001b[0;34m(self, *input, **kwargs)\u001b[0m\n\u001b[1;32m   1486\u001b[0m         recording_scopes \u001b[38;5;241m=\u001b[39m \u001b[38;5;28;01mFalse\u001b[39;00m\n\u001b[1;32m   1487\u001b[0m \u001b[38;5;28;01mtry\u001b[39;00m:\n\u001b[0;32m-> 1488\u001b[0m     result \u001b[38;5;241m=\u001b[39m \u001b[38;5;28;43mself\u001b[39;49m\u001b[38;5;241;43m.\u001b[39;49m\u001b[43mforward\u001b[49m\u001b[43m(\u001b[49m\u001b[38;5;241;43m*\u001b[39;49m\u001b[38;5;28;43minput\u001b[39;49m\u001b[43m,\u001b[49m\u001b[43m \u001b[49m\u001b[38;5;241;43m*\u001b[39;49m\u001b[38;5;241;43m*\u001b[39;49m\u001b[43mkwargs\u001b[49m\u001b[43m)\u001b[49m\n\u001b[1;32m   1489\u001b[0m \u001b[38;5;28;01mfinally\u001b[39;00m:\n\u001b[1;32m   1490\u001b[0m     \u001b[38;5;28;01mif\u001b[39;00m recording_scopes:\n",
      "File \u001b[0;32m~/saimsu/astroenv/lib/python3.10/site-packages/torch/nn/modules/batchnorm.py:138\u001b[0m, in \u001b[0;36m_BatchNorm.forward\u001b[0;34m(self, input)\u001b[0m\n\u001b[1;32m    137\u001b[0m \u001b[38;5;28;01mdef\u001b[39;00m \u001b[38;5;21mforward\u001b[39m(\u001b[38;5;28mself\u001b[39m, \u001b[38;5;28minput\u001b[39m: Tensor) \u001b[38;5;241m-\u001b[39m\u001b[38;5;241m>\u001b[39m Tensor:\n\u001b[0;32m--> 138\u001b[0m     \u001b[38;5;28;43mself\u001b[39;49m\u001b[38;5;241;43m.\u001b[39;49m\u001b[43m_check_input_dim\u001b[49m\u001b[43m(\u001b[49m\u001b[38;5;28;43minput\u001b[39;49m\u001b[43m)\u001b[49m\n\u001b[1;32m    140\u001b[0m     \u001b[38;5;66;03m# exponential_average_factor is set to self.momentum\u001b[39;00m\n\u001b[1;32m    141\u001b[0m     \u001b[38;5;66;03m# (when it is available) only so that it gets updated\u001b[39;00m\n\u001b[1;32m    142\u001b[0m     \u001b[38;5;66;03m# in ONNX graph when this node is exported to ONNX.\u001b[39;00m\n\u001b[1;32m    143\u001b[0m     \u001b[38;5;28;01mif\u001b[39;00m \u001b[38;5;28mself\u001b[39m\u001b[38;5;241m.\u001b[39mmomentum \u001b[38;5;129;01mis\u001b[39;00m \u001b[38;5;28;01mNone\u001b[39;00m:\n",
      "File \u001b[0;32m~/saimsu/astroenv/lib/python3.10/site-packages/torch/nn/modules/batchnorm.py:410\u001b[0m, in \u001b[0;36mBatchNorm2d._check_input_dim\u001b[0;34m(self, input)\u001b[0m\n\u001b[1;32m    408\u001b[0m \u001b[38;5;28;01mdef\u001b[39;00m \u001b[38;5;21m_check_input_dim\u001b[39m(\u001b[38;5;28mself\u001b[39m, \u001b[38;5;28minput\u001b[39m):\n\u001b[1;32m    409\u001b[0m     \u001b[38;5;28;01mif\u001b[39;00m \u001b[38;5;28minput\u001b[39m\u001b[38;5;241m.\u001b[39mdim() \u001b[38;5;241m!=\u001b[39m \u001b[38;5;241m4\u001b[39m:\n\u001b[0;32m--> 410\u001b[0m         \u001b[38;5;28;01mraise\u001b[39;00m \u001b[38;5;167;01mValueError\u001b[39;00m(\u001b[38;5;124m\"\u001b[39m\u001b[38;5;124mexpected 4D input (got \u001b[39m\u001b[38;5;132;01m{}\u001b[39;00m\u001b[38;5;124mD input)\u001b[39m\u001b[38;5;124m\"\u001b[39m\u001b[38;5;241m.\u001b[39mformat(\u001b[38;5;28minput\u001b[39m\u001b[38;5;241m.\u001b[39mdim()))\n",
      "\u001b[0;31mValueError\u001b[0m: expected 4D input (got 3D input)"
     ]
    }
   ],
   "source": [
    "input_name = [\"Images\"]\n",
    "output_name = [\"Latent state\"]\n",
    "\n",
    "torch.onnx.export(encoder.to('cpu'), batch, \"encoder.onnx\", input_names=input_name, output_names=output_name)"
   ]
  },
  {
   "cell_type": "code",
   "execution_count": 16,
   "id": "f7d693bb",
   "metadata": {},
   "outputs": [
    {
     "name": "stdout",
     "output_type": "stream",
     "text": [
      "============= Diagnostic Run torch.onnx.export version 2.0.0+cu117 =============\n",
      "verbose: False, log level: Level.ERROR\n",
      "======================= 0 NONE 0 NOTE 0 WARNING 0 ERROR ========================\n",
      "\n"
     ]
    }
   ],
   "source": [
    "input_name = [\"Latent state\"]\n",
    "output_name = [\"Reconstructed image\"]\n",
    "\n",
    "torch.onnx.export(decoder.to('cpu'), sample.to('cpu'), \"decoder.onnx\", input_names=input_name, output_names=output_name)"
   ]
  },
  {
   "cell_type": "markdown",
   "id": "f8624775",
   "metadata": {},
   "source": [
    "## MNIST"
   ]
  },
  {
   "cell_type": "code",
   "execution_count": 25,
   "id": "c8474527",
   "metadata": {},
   "outputs": [],
   "source": [
    "import torchvision.datasets as dset\n",
    "import torchvision\n",
    "\n",
    "train_set = dset.MNIST(\n",
    "    root='mnist', train=True, transform=torchvision.transforms.ToTensor(), download=False\n",
    ")\n",
    "\n",
    "torch.manual_seed(42)\n",
    "\n",
    "x_train, _ = random_split(train_set, [0.2, 0.8])\n",
    "\n",
    "batch_size = 64\n",
    "train_loader = torch.utils.data.DataLoader(\n",
    "    x_train, batch_size=batch_size, shuffle=True\n",
    ")"
   ]
  },
  {
   "cell_type": "code",
   "execution_count": 9,
   "id": "fabc9146",
   "metadata": {},
   "outputs": [],
   "source": [
    "def train(\n",
    "    enc,\n",
    "    dec,\n",
    "    loader,\n",
    "    optimizer,\n",
    "    single_pass_handler,\n",
    "    loss_handler,\n",
    "    epoch,\n",
    "    log_interval=500,\n",
    "):\n",
    "\n",
    "    for batch_idx, (data, lab) in enumerate(loader): \n",
    "        batch_size = data.size(0)\n",
    "        optimizer.zero_grad()\n",
    "        data = data.to(device)\n",
    "        lab = lab.to(device)\n",
    "\n",
    "        latent, output = single_pass_handler(encoder, decoder, data, lab) # reconstructed image drom decoder \n",
    "\n",
    "        loss = loss_handler(data, output, latent) # compute loss\n",
    "        loss.backward()\n",
    "        optimizer.step()\n",
    "        if batch_idx % log_interval == 0:\n",
    "            print(\n",
    "                \"Train Epoch: {} [{}/{} ({:.0f}%)]\".format(\n",
    "                    epoch,\n",
    "                    batch_idx * len(data),\n",
    "                    len(loader.dataset),\n",
    "                    100.0 * batch_idx / len(loader),\n",
    "                ).ljust(40), \n",
    "                \"Loss: {:.6f}\".format(loss.item())\n",
    "            )\n",
    "\n",
    "            \n",
    "def run_eval(\n",
    "    encoder,\n",
    "    decoder,\n",
    "    loader,\n",
    "    single_pass_handler,\n",
    "    return_real=True,\n",
    "    return_recon=True,\n",
    "    return_latent=True,\n",
    "    return_labels=True,\n",
    "):\n",
    "\n",
    "    if return_real:\n",
    "        real = []\n",
    "    if return_recon:\n",
    "        reconstr = []\n",
    "    if return_latent:\n",
    "        latent = []\n",
    "    if return_labels:\n",
    "        labels = []\n",
    "    with torch.no_grad():\n",
    "        for batch_idx, (data, label) in enumerate(loader):\n",
    "            if return_labels:\n",
    "                labels.append(label.numpy())\n",
    "            if return_real:\n",
    "                real.append(data.numpy())\n",
    "         \n",
    "            data = data.to(device)\n",
    "            label = label.to(device)\n",
    "            rep, rec = single_pass_handler(encoder, decoder, data, label)\n",
    "            \n",
    "            if return_latent:\n",
    "                latent.append(rep.cpu().numpy())\n",
    "            if return_recon:\n",
    "                reconstr.append(rec.cpu().numpy())\n",
    "\n",
    "    result = {}\n",
    "    if return_real:\n",
    "        real = np.concatenate(real)\n",
    "        result[\"real\"] = real.squeeze()\n",
    "    if return_latent:\n",
    "        latent = np.concatenate(latent)\n",
    "        result[\"latent\"] = latent\n",
    "    if return_recon:\n",
    "        reconstr = np.concatenate(reconstr)\n",
    "        result[\"reconstr\"] = reconstr.squeeze()\n",
    "    if return_labels:\n",
    "        labels = np.concatenate(labels)\n",
    "        result[\"labels\"] = labels\n",
    "    return result"
   ]
  },
  {
   "cell_type": "code",
   "execution_count": 77,
   "id": "c97c972d",
   "metadata": {
    "scrolled": true
   },
   "outputs": [
    {
     "name": "stderr",
     "output_type": "stream",
     "text": [
      "\r",
      "  0%|                                                     | 0/5 [00:00<?, ?it/s]"
     ]
    },
    {
     "name": "stdout",
     "output_type": "stream",
     "text": [
      "Train Epoch: 1 [0/12000 (0%)]            Loss: 0.068260\n",
      "Train Epoch: 1 [1920/12000 (16%)]        Loss: 0.046876\n",
      "Train Epoch: 1 [3840/12000 (32%)]        Loss: 0.042329\n",
      "Train Epoch: 1 [5760/12000 (48%)]        Loss: 0.043889\n",
      "Train Epoch: 1 [7680/12000 (64%)]        Loss: 0.041058\n",
      "Train Epoch: 1 [9600/12000 (80%)]        Loss: 0.040752\n",
      "Train Epoch: 1 [11520/12000 (96%)]       Loss: 0.039840\n"
     ]
    },
    {
     "name": "stderr",
     "output_type": "stream",
     "text": [
      "\r",
      " 20%|█████████                                    | 1/5 [00:08<00:35,  8.78s/it]"
     ]
    },
    {
     "name": "stdout",
     "output_type": "stream",
     "text": [
      "Train Epoch: 2 [0/12000 (0%)]            Loss: 0.033203\n",
      "Train Epoch: 2 [1920/12000 (16%)]        Loss: 0.034128\n",
      "Train Epoch: 2 [3840/12000 (32%)]        Loss: 0.035548\n",
      "Train Epoch: 2 [5760/12000 (48%)]        Loss: 0.036193\n",
      "Train Epoch: 2 [7680/12000 (64%)]        Loss: 0.031099\n",
      "Train Epoch: 2 [9600/12000 (80%)]        Loss: 0.034522\n",
      "Train Epoch: 2 [11520/12000 (96%)]       Loss: 0.032732\n"
     ]
    },
    {
     "name": "stderr",
     "output_type": "stream",
     "text": [
      "\r",
      " 40%|██████████████████                           | 2/5 [00:17<00:25,  8.56s/it]"
     ]
    },
    {
     "name": "stdout",
     "output_type": "stream",
     "text": [
      "Train Epoch: 3 [0/12000 (0%)]            Loss: 0.032780\n",
      "Train Epoch: 3 [1920/12000 (16%)]        Loss: 0.037630\n",
      "Train Epoch: 3 [3840/12000 (32%)]        Loss: 0.032946\n",
      "Train Epoch: 3 [5760/12000 (48%)]        Loss: 0.032816\n",
      "Train Epoch: 3 [7680/12000 (64%)]        Loss: 0.032120\n",
      "Train Epoch: 3 [9600/12000 (80%)]        Loss: 0.031961\n",
      "Train Epoch: 3 [11520/12000 (96%)]       Loss: 0.033313\n"
     ]
    },
    {
     "name": "stderr",
     "output_type": "stream",
     "text": [
      "\r",
      " 60%|███████████████████████████                  | 3/5 [00:25<00:17,  8.54s/it]"
     ]
    },
    {
     "name": "stdout",
     "output_type": "stream",
     "text": [
      "Train Epoch: 4 [0/12000 (0%)]            Loss: 0.031925\n",
      "Train Epoch: 4 [1920/12000 (16%)]        Loss: 0.030908\n",
      "Train Epoch: 4 [3840/12000 (32%)]        Loss: 0.013943\n",
      "Train Epoch: 4 [5760/12000 (48%)]        Loss: 0.009820\n",
      "Train Epoch: 4 [7680/12000 (64%)]        Loss: 0.008775\n",
      "Train Epoch: 4 [9600/12000 (80%)]        Loss: 0.008806\n",
      "Train Epoch: 4 [11520/12000 (96%)]       Loss: 0.008896\n"
     ]
    },
    {
     "name": "stderr",
     "output_type": "stream",
     "text": [
      "\r",
      " 80%|████████████████████████████████████         | 4/5 [00:34<00:08,  8.52s/it]"
     ]
    },
    {
     "name": "stdout",
     "output_type": "stream",
     "text": [
      "Train Epoch: 5 [0/12000 (0%)]            Loss: 0.008793\n",
      "Train Epoch: 5 [1920/12000 (16%)]        Loss: 0.008126\n",
      "Train Epoch: 5 [3840/12000 (32%)]        Loss: 0.008306\n",
      "Train Epoch: 5 [5760/12000 (48%)]        Loss: 0.008007\n",
      "Train Epoch: 5 [7680/12000 (64%)]        Loss: 0.008238\n",
      "Train Epoch: 5 [9600/12000 (80%)]        Loss: 0.008510\n",
      "Train Epoch: 5 [11520/12000 (96%)]       Loss: 0.008287\n"
     ]
    },
    {
     "name": "stderr",
     "output_type": "stream",
     "text": [
      "100%|█████████████████████████████████████████████| 5/5 [00:42<00:00,  8.54s/it]\n"
     ]
    }
   ],
   "source": [
    "torch.manual_seed(42)\n",
    "\n",
    "latent_dim = 24\n",
    "\n",
    "learning_rate = 5e-4\n",
    "encoder = VAEEncoder(latent_dim=latent_dim * 2)\n",
    "decoder = Decoder(latent_dim=latent_dim)\n",
    "\n",
    "device='cpu'\n",
    "encoder = encoder.to(device)\n",
    "decoder = decoder.to(device)\n",
    "\n",
    "optimizer = torch.optim.Adam(\n",
    "    chain(encoder.parameters(), decoder.parameters()), lr=learning_rate\n",
    ")\n",
    "for i in tqdm(range(1, 6)):\n",
    "    train(\n",
    "        enc=encoder,\n",
    "        dec=decoder,\n",
    "        optimizer=optimizer,\n",
    "        loader=train_loader,\n",
    "        epoch=i,\n",
    "        single_pass_handler=vae_pass_handler,\n",
    "        loss_handler=vae_loss_handler,\n",
    "        log_interval=30,\n",
    "    )"
   ]
  },
  {
   "cell_type": "code",
   "execution_count": 78,
   "id": "e572d15c",
   "metadata": {},
   "outputs": [],
   "source": [
    "encoder = encoder.eval()\n",
    "decoder = decoder.eval()"
   ]
  },
  {
   "cell_type": "code",
   "execution_count": 79,
   "id": "0df93f81",
   "metadata": {},
   "outputs": [],
   "source": [
    "run_res = run_eval(encoder, decoder, train_loader, vae_pass_handler)"
   ]
  },
  {
   "cell_type": "code",
   "execution_count": 80,
   "id": "08a5a7e9",
   "metadata": {},
   "outputs": [
    {
     "data": {
      "image/png": "[encoded data removed]",
      "text/plain": [
       "<Figure size 2000x400 with 1 Axes>"
      ]
     },
     "metadata": {},
     "output_type": "display_data"
    }
   ],
   "source": [
    "plot_imgs(run_res['real'][100:110], run_res['reconstr'][100:110])"
   ]
  },
  {
   "cell_type": "code",
   "execution_count": 81,
   "id": "16e389c7",
   "metadata": {},
   "outputs": [],
   "source": [
    "mu, log_var = vae_split(run_res['latent'])\n",
    "sigma = np.exp(0.5 * log_var)\n"
   ]
  },
  {
   "cell_type": "code",
   "execution_count": 85,
   "id": "518d183d",
   "metadata": {},
   "outputs": [
    {
     "data": {
      "text/plain": [
       "(array([  57.,  309., 1309., 2469., 3003., 2270., 1457.,  864.,  244.,\n",
       "          18.]),\n",
       " array([-2.94192767, -2.2691412 , -1.59635484, -0.92356849, -0.25078207,\n",
       "         0.42200434,  1.0947907 ,  1.76757717,  2.44036365,  3.11314988,\n",
       "         3.78593636]),\n",
       " <BarContainer object of 10 artists>)"
      ]
     },
     "execution_count": 85,
     "metadata": {},
     "output_type": "execute_result"
    },
    {
     "data": {
      "image/png": "[encoded data removed]",
      "text/plain": [
       "<Figure size 640x480 with 1 Axes>"
      ]
     },
     "metadata": {},
     "output_type": "display_data"
    }
   ],
   "source": [
    "plt.hist(mu[:,1])"
   ]
  },
  {
   "cell_type": "code",
   "execution_count": null,
   "id": "950e37e9",
   "metadata": {},
   "outputs": [],
   "source": []
  }
 ],
 "metadata": {
  "kernelspec": {
   "display_name": "Python 3 (ipykernel)",
   "language": "python",
   "name": "python3"
  },
  "language_info": {
   "codemirror_mode": {
    "name": "ipython",
    "version": 3
   },
   "file_extension": ".py",
   "mimetype": "text/x-python",
   "name": "python",
   "nbconvert_exporter": "python",
   "pygments_lexer": "ipython3",
   "version": "3.10.6"
  }
 },
 "nbformat": 4,
 "nbformat_minor": 5
}
