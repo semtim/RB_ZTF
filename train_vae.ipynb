{
 "cells": [
  {
   "cell_type": "code",
   "execution_count": 1,
   "id": "7fbc7205-dce8-4a86-80b9-bab5f68622c2",
   "metadata": {},
   "outputs": [],
   "source": [
    "import torch\n",
    "import numpy as np\n",
    "from itertools import chain\n",
    "from torch.utils.data import DataLoader, random_split\n",
    "from tqdm import tqdm\n",
    "from datasets import *\n",
    "from vae import *\n",
    "from losses import *\n",
    "from torchvision.transforms import RandomRotation\n",
    "set_random_seed(7)"
   ]
  },
  {
   "cell_type": "code",
   "execution_count": 2,
   "id": "1c429948-0893-4673-b66e-9a0cd686594a",
   "metadata": {},
   "outputs": [],
   "source": [
    "\n",
    "oids, targets = get_only_r_oids('akb.ztf.snad.space.json')\n",
    "\n",
    "frames_dataset = AllFramesDataset(oids, transform=RandomRotation(degrees=20))\n",
    "train_loader = DataLoader(frames_dataset, batch_size=256, shuffle=True, num_workers=32)"
   ]
  },
  {
   "cell_type": "code",
   "execution_count": 3,
   "id": "060caa62-e684-423c-8b51-de3af07413ea",
   "metadata": {},
   "outputs": [],
   "source": [
    "latent_dim = 36\n",
    "\n",
    "learning_rate = 5e-5\n",
    "encoder = VAEEncoder(latent_dim=latent_dim * 2)\n",
    "decoder = Decoder(latent_dim=latent_dim)\n",
    "\n",
    "device = torch.device(\"cuda\" if torch.cuda.is_available() else \"cpu\")\n",
    "encoder = encoder.to(device)\n",
    "decoder = decoder.to(device)\n",
    "\n",
    "optimizer = torch.optim.Adam(\n",
    "    chain(encoder.parameters(), decoder.parameters()), lr=learning_rate\n",
    ")"
   ]
  },
  {
   "cell_type": "code",
   "execution_count": null,
   "id": "6640cae2-4562-49f2-8f85-7d39095a20f1",
   "metadata": {},
   "outputs": [
    {
     "name": "stderr",
     "output_type": "stream",
     "text": [
      "  0%|                                                   | 0/100 [00:00<?, ?it/s]"
     ]
    }
   ],
   "source": [
    "losses = []\n",
    "for i in tqdm(range(1, 101)):\n",
    "    losses.append(\n",
    "        train_vae(\n",
    "            enc=encoder,\n",
    "            dec=decoder,\n",
    "            optimizer=optimizer,\n",
    "            loader=train_loader,\n",
    "            epoch=i,\n",
    "            single_pass_handler=vae_pass_handler,\n",
    "            loss_handler=vae_loss_handler,\n",
    "            device=device\n",
    "        )\n",
    "    )\n",
    "\n"
   ]
  },
  {
   "cell_type": "code",
   "execution_count": null,
   "id": "e1abd34a-cf73-472b-a2c1-eb9094216ac6",
   "metadata": {},
   "outputs": [],
   "source": [
    "torch.save(encoder.state_dict(), 'trained_models/vae/encoder_aug.zip')\n",
    "torch.save(decoder.state_dict(), 'trained_models/vae/decoder_aug.zip')\n",
    "\n",
    "np.save('trained_models/vae/loss_aug.npy', losses)"
   ]
  },
  {
   "cell_type": "code",
   "execution_count": null,
   "id": "15bbd58c-4c75-487c-830b-55e7791ca438",
   "metadata": {},
   "outputs": [],
   "source": []
  }
 ],
 "metadata": {
  "kernelspec": {
   "display_name": "rb-ztf",
   "language": "python",
   "name": "rb-ztf"
  },
  "language_info": {
   "codemirror_mode": {
    "name": "ipython",
    "version": 3
   },
   "file_extension": ".py",
   "mimetype": "text/x-python",
   "name": "python",
   "nbconvert_exporter": "python",
   "pygments_lexer": "ipython3",
   "version": "3.8.0"
  }
 },
 "nbformat": 4,
 "nbformat_minor": 5
}
