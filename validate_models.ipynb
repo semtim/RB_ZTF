{
 "cells": [
  {
   "cell_type": "code",
   "execution_count": 1,
   "id": "19d139b6-0f9a-4ed1-a324-8027818fdb55",
   "metadata": {},
   "outputs": [],
   "source": [
    "import os\n",
    "import numpy as np\n",
    "import matplotlib.pyplot as plt\n",
    "import requests\n",
    "import torch\n",
    "import torch.nn as nn\n",
    "import matplotlib.pyplot as plt\n",
    "import json\n",
    "from copy import deepcopy\n",
    "\n",
    "\n",
    "from matplotlib import rc\n",
    "import matplotlib.ticker as tick\n",
    "\n",
    "from rnn import *\n",
    "from datasets import *\n",
    "from torch.utils.data import DataLoader, random_split\n",
    "from sklearn import metrics\n",
    "\n",
    "set_random_seed(7)"
   ]
  },
  {
   "cell_type": "code",
   "execution_count": 2,
   "id": "69cf61c0-5a7a-4ad0-b5a9-4dca37c074d2",
   "metadata": {},
   "outputs": [],
   "source": [
    "oids, labels = get_only_r_oids('akb.ztf.snad.space.json')\n",
    "data = EmbsSequenceData(oids, labels, label_type='float', path='embeddings_100ep/')\n",
    "\n",
    "fold1, fold2, fold3, fold4, fold5 = random_split(data, [0.2, 0.2, 0.2, 0.2, 0.2])\n",
    "folds = [fold1, fold2, fold3, fold4, fold5]"
   ]
  },
  {
   "cell_type": "code",
   "execution_count": 3,
   "id": "10d43a33-d425-49a9-8f6b-f8c121ece4e3",
   "metadata": {},
   "outputs": [],
   "source": [
    "#output, labels = [], []\n",
    "def get_result_kfold(model, model_name):\n",
    "    result = {'roc_auc':[], 'tpr':[], 'fpr':[], 'f1':[],\n",
    "              'thresholds':[], 'precision':[], 'recall':[],\n",
    "              'accuracy':[]}\n",
    "    bucket_boundaries = [200, 400, 600, 800]\n",
    "    for k, fold in enumerate(folds):\n",
    "    #concat_folds = ConcatDataset(folds[:k] + folds[k+1:])\n",
    "    #train_sampler = BySequenceLengthSampler(concat_folds, bucket_boundaries, 32, drop_last=False, shuffle=True)\n",
    "        test_sampler = BySequenceLengthSampler(fold, bucket_boundaries, 32, drop_last=False, shuffle=False)\n",
    "\n",
    "\n",
    "    #train_loader = DataLoader(concat_folds, batch_size=1, \n",
    "    #                    batch_sampler=train_sampler, \n",
    "    #                    num_workers=16,\n",
    "    #                    collate_fn=collate,\n",
    "    #                    drop_last=False, pin_memory=False)\n",
    "\n",
    "        test_loader = DataLoader(fold, batch_size=1, \n",
    "                        batch_sampler=test_sampler, \n",
    "                        num_workers=4,\n",
    "                        collate_fn=collate,\n",
    "                        drop_last=False, pin_memory=False)\n",
    "        \n",
    "        model.load_state_dict(torch.load(f'trained_models/rnn/kfold/{model_name}/model{k}.zip'))\n",
    "        model.eval()\n",
    "        if model.out_size == 2:\n",
    "            out, gt, _ = get_pred(model, test_loader)\n",
    "        else:\n",
    "            out, gt = get_pred(model, test_loader)\n",
    "        fpr, tpr, thresholds = metrics.roc_curve(gt, out)\n",
    "        result['tpr'].append(tpr)\n",
    "        result['fpr'].append(fpr)\n",
    "        result['thresholds'].append(thresholds)\n",
    "        result['roc_auc'].append(metrics.roc_auc_score(gt, out))\n",
    "        f1scores = []\n",
    "        for tr in thresholds:\n",
    "            current_predict = (out >=tr).long()\n",
    "            f1scores.append(metrics.f1_score(gt, current_predict))\n",
    "        #result['f1'].append(f1scores)\n",
    "        result['f1'].append(np.max(f1scores))\n",
    "        ind = np.argmax(f1scores)\n",
    "        cur_best_thr = result['thresholds'][-1][ind] #best thresholds for i fold\n",
    "        result['precision'].append(metrics.precision_score(gt, (out >= cur_best_thr).long()))\n",
    "        result['recall'].append(metrics.recall_score(gt, (out >= cur_best_thr).long()))\n",
    "        result['accuracy'].append(metrics.accuracy_score(gt, (out >= cur_best_thr).long()))\n",
    "    return result"
   ]
  },
  {
   "cell_type": "code",
   "execution_count": 4,
   "id": "628af49c-d69a-4c6d-8203-f58b0a26b4ff",
   "metadata": {
    "scrolled": true
   },
   "outputs": [],
   "source": [
    "model = RBclassifier(hidden_size=128, latent_dim=36, rnn_type='GRU', out_size=2, bidirectional=True)\n",
    "results = get_result_kfold(model, 'wd_2dir_nomish')"
   ]
  },
  {
   "cell_type": "code",
   "execution_count": 5,
   "id": "d023d7d4-dbbb-407a-b95b-8e6c9b587a57",
   "metadata": {},
   "outputs": [
    {
     "name": "stdout",
     "output_type": "stream",
     "text": [
      "-------------ROC AUC-------------\n",
      "0.856 +- 0.010\n",
      "-------------Accuracy-------------\n",
      "0.802 +- 0.023\n",
      "-------------F1-score-------------\n",
      "0.804 +- 0.011\n"
     ]
    }
   ],
   "source": [
    "print('-------------ROC AUC-------------')\n",
    "print(f\"{np.mean(results['roc_auc']):.3f} +- {np.std(results['roc_auc']):.3f}\")\n",
    "    \n",
    "\n",
    "print('-------------Accuracy-------------')\n",
    "print(f\"{np.mean(results['accuracy']):.3f} +- {np.std(results['accuracy']):.3f}\")\n",
    "\n",
    "    \n",
    "print('-------------F1-score-------------')\n",
    "print(f\"{np.mean(results['f1']):.3f} +- {np.std(results['f1']):.3f}\")"
   ]
  },
  {
   "cell_type": "code",
   "execution_count": null,
   "id": "8c97f2e3-db3d-4599-b7d3-314f1b7bb550",
   "metadata": {},
   "outputs": [],
   "source": []
  }
 ],
 "metadata": {
  "kernelspec": {
   "display_name": "rb-ztf",
   "language": "python",
   "name": "rb-ztf"
  },
  "language_info": {
   "codemirror_mode": {
    "name": "ipython",
    "version": 3
   },
   "file_extension": ".py",
   "mimetype": "text/x-python",
   "name": "python",
   "nbconvert_exporter": "python",
   "pygments_lexer": "ipython3",
   "version": "3.8.0"
  }
 },
 "nbformat": 4,
 "nbformat_minor": 5
}
